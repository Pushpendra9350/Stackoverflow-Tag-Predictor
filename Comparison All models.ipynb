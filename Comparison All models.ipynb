{
 "cells": [
  {
   "cell_type": "markdown",
   "metadata": {},
   "source": [
    "# Comparisions for all work done till now"
   ]
  },
  {
   "cell_type": "code",
   "execution_count": 2,
   "metadata": {},
   "outputs": [],
   "source": [
    "import pandas as pd\n",
    "import numpy as np\n",
    "import warnings\n",
    "warnings.filterwarnings(\"ignore\")\n",
    "import matplotlib.pyplot as plt\n",
    "import seaborn as sb"
   ]
  },
  {
   "cell_type": "markdown",
   "metadata": {},
   "source": [
    "## Now let's check for the Tags analysis we did"
   ]
  },
  {
   "cell_type": "markdown",
   "metadata": {},
   "source": [
    "### Task: Tag Analysis\n",
    "<b>Here we have trained 2 model</b>\n",
    "* One with top 5500 important tags and only with 100K datapoints.\n",
    "* Second one with 500 tags and with 3 times more weight to title. Because title contains more information about question."
   ]
  },
  {
   "cell_type": "code",
   "execution_count": 3,
   "metadata": {},
   "outputs": [],
   "source": [
    "# We get the report of our analysis\n",
    "tags_5500 = pd.read_csv(\"./Classification reports/SGD_5500tags_analysis_report.csv\")\n",
    "tags_500_title = pd.read_csv(\"./Classification reports/SGD_500tags_analysis_report.csv\")"
   ]
  },
  {
   "cell_type": "code",
   "execution_count": 7,
   "metadata": {},
   "outputs": [],
   "source": [
    "# Selecting average micro f1 score from report\n",
    "tags_5500_avg_values = tags_5500[\"f1-score\"].iloc[5500]\n",
    "tags_500_title_avg_values = tags_500_title[\"f1-score\"].iloc[500]"
   ]
  },
  {
   "cell_type": "code",
   "execution_count": 21,
   "metadata": {},
   "outputs": [
    {
     "data": {
      "text/plain": [
       "Text(0.5, 1.0, 'Micro F1 Scores between both models')"
      ]
     },
     "execution_count": 21,
     "metadata": {},
     "output_type": "execute_result"
    },
    {
     "data": {
      "image/png": "[encoded data removed]",
      "text/plain": [
       "<Figure size 432x288 with 1 Axes>"
      ]
     },
     "metadata": {
      "needs_background": "light"
     },
     "output_type": "display_data"
    }
   ],
   "source": [
    "# Now plot then to get better understanding \n",
    "y=[tags_5500_avg_values,tags_500_title_avg_values]\n",
    "sb.barplot([\"5500 tags\",\"500 tags with 3 time title\"],y)\n",
    "plt.xlabel(\"Micro F1 score\")\n",
    "plt.ylabel(\"values between 0 to 1 (Higher is better)\")\n",
    "plt.title(\"Micro F1 Scores between both models\")"
   ]
  },
  {
   "cell_type": "markdown",
   "metadata": {},
   "source": [
    "<b>Now let's look at precision and recall value how they are changing</b>"
   ]
  },
  {
   "cell_type": "code",
   "execution_count": 22,
   "metadata": {},
   "outputs": [
    {
     "data": {
      "text/html": [
       "<div>\n",
       "<style scoped>\n",
       "    .dataframe tbody tr th:only-of-type {\n",
       "        vertical-align: middle;\n",
       "    }\n",
       "\n",
       "    .dataframe tbody tr th {\n",
       "        vertical-align: top;\n",
       "    }\n",
       "\n",
       "    .dataframe thead th {\n",
       "        text-align: right;\n",
       "    }\n",
       "</style>\n",
       "<table border=\"1\" class=\"dataframe\">\n",
       "  <thead>\n",
       "    <tr style=\"text-align: right;\">\n",
       "      <th></th>\n",
       "      <th>Unnamed: 0</th>\n",
       "      <th>precision</th>\n",
       "      <th>recall</th>\n",
       "      <th>f1-score</th>\n",
       "      <th>support</th>\n",
       "    </tr>\n",
       "  </thead>\n",
       "  <tbody>\n",
       "    <tr>\n",
       "      <th>0</th>\n",
       "      <td>0</td>\n",
       "      <td>0.632075</td>\n",
       "      <td>0.246173</td>\n",
       "      <td>0.354341</td>\n",
       "      <td>1633.0</td>\n",
       "    </tr>\n",
       "    <tr>\n",
       "      <th>1</th>\n",
       "      <td>1</td>\n",
       "      <td>0.777778</td>\n",
       "      <td>0.456317</td>\n",
       "      <td>0.575180</td>\n",
       "      <td>1488.0</td>\n",
       "    </tr>\n",
       "    <tr>\n",
       "      <th>2</th>\n",
       "      <td>2</td>\n",
       "      <td>0.832787</td>\n",
       "      <td>0.564444</td>\n",
       "      <td>0.672848</td>\n",
       "      <td>1350.0</td>\n",
       "    </tr>\n",
       "    <tr>\n",
       "      <th>3</th>\n",
       "      <td>3</td>\n",
       "      <td>0.760837</td>\n",
       "      <td>0.407526</td>\n",
       "      <td>0.530761</td>\n",
       "      <td>1249.0</td>\n",
       "    </tr>\n",
       "    <tr>\n",
       "      <th>4</th>\n",
       "      <td>4</td>\n",
       "      <td>0.937041</td>\n",
       "      <td>0.766524</td>\n",
       "      <td>0.843248</td>\n",
       "      <td>1165.0</td>\n",
       "    </tr>\n",
       "  </tbody>\n",
       "</table>\n",
       "</div>"
      ],
      "text/plain": [
       "  Unnamed: 0  precision    recall  f1-score  support\n",
       "0          0   0.632075  0.246173  0.354341   1633.0\n",
       "1          1   0.777778  0.456317  0.575180   1488.0\n",
       "2          2   0.832787  0.564444  0.672848   1350.0\n",
       "3          3   0.760837  0.407526  0.530761   1249.0\n",
       "4          4   0.937041  0.766524  0.843248   1165.0"
      ]
     },
     "execution_count": 22,
     "metadata": {},
     "output_type": "execute_result"
    }
   ],
   "source": [
    "tags_5500.head()"
   ]
  },
  {
   "cell_type": "code",
   "execution_count": 23,
   "metadata": {},
   "outputs": [
    {
     "data": {
      "text/html": [
       "<div>\n",
       "<style scoped>\n",
       "    .dataframe tbody tr th:only-of-type {\n",
       "        vertical-align: middle;\n",
       "    }\n",
       "\n",
       "    .dataframe tbody tr th {\n",
       "        vertical-align: top;\n",
       "    }\n",
       "\n",
       "    .dataframe thead th {\n",
       "        text-align: right;\n",
       "    }\n",
       "</style>\n",
       "<table border=\"1\" class=\"dataframe\">\n",
       "  <thead>\n",
       "    <tr style=\"text-align: right;\">\n",
       "      <th></th>\n",
       "      <th>Unnamed: 0</th>\n",
       "      <th>precision</th>\n",
       "      <th>recall</th>\n",
       "      <th>f1-score</th>\n",
       "      <th>support</th>\n",
       "    </tr>\n",
       "  </thead>\n",
       "  <tbody>\n",
       "    <tr>\n",
       "      <th>0</th>\n",
       "      <td>0</td>\n",
       "      <td>0.623762</td>\n",
       "      <td>0.286550</td>\n",
       "      <td>0.392698</td>\n",
       "      <td>1539.0</td>\n",
       "    </tr>\n",
       "    <tr>\n",
       "      <th>1</th>\n",
       "      <td>1</td>\n",
       "      <td>0.811392</td>\n",
       "      <td>0.469597</td>\n",
       "      <td>0.594896</td>\n",
       "      <td>1365.0</td>\n",
       "    </tr>\n",
       "    <tr>\n",
       "      <th>2</th>\n",
       "      <td>2</td>\n",
       "      <td>0.846517</td>\n",
       "      <td>0.531111</td>\n",
       "      <td>0.652708</td>\n",
       "      <td>1350.0</td>\n",
       "    </tr>\n",
       "    <tr>\n",
       "      <th>3</th>\n",
       "      <td>3</td>\n",
       "      <td>0.777018</td>\n",
       "      <td>0.439628</td>\n",
       "      <td>0.561542</td>\n",
       "      <td>1292.0</td>\n",
       "    </tr>\n",
       "    <tr>\n",
       "      <th>4</th>\n",
       "      <td>4</td>\n",
       "      <td>0.948052</td>\n",
       "      <td>0.778667</td>\n",
       "      <td>0.855051</td>\n",
       "      <td>1125.0</td>\n",
       "    </tr>\n",
       "  </tbody>\n",
       "</table>\n",
       "</div>"
      ],
      "text/plain": [
       "  Unnamed: 0  precision    recall  f1-score  support\n",
       "0          0   0.623762  0.286550  0.392698   1539.0\n",
       "1          1   0.811392  0.469597  0.594896   1365.0\n",
       "2          2   0.846517  0.531111  0.652708   1350.0\n",
       "3          3   0.777018  0.439628  0.561542   1292.0\n",
       "4          4   0.948052  0.778667  0.855051   1125.0"
      ]
     },
     "execution_count": 23,
     "metadata": {},
     "output_type": "execute_result"
    }
   ],
   "source": [
    "tags_500_title.head()"
   ]
  },
  {
   "cell_type": "markdown",
   "metadata": {},
   "source": [
    "**Observations**\n",
    "* We can clearly see that our second model with 500 tags and 3 time title is working well.<br>\n",
    "* And if we look at the precision recall and f1-score then they are also improving in the second approach\n",
    "\n",
    "**So we will contitnue with this model for our further analysis.**\n",
    "<br>Now we have finalized our tags and now we need to find best algorithm tocwork with this dataset"
   ]
  },
  {
   "cell_type": "markdown",
   "metadata": {},
   "source": [
    "## Model Analysis"
   ]
  },
  {
   "cell_type": "markdown",
   "metadata": {},
   "source": [
    "As we have finalized our tags then next we have to Analyize which algorithm is working well on this dataset. \n",
    "* In our main analysis notebook we train model with SGDClassifer with logloss function we get 0.35 micro f1 score. now we are analyizing with other algorithms."
   ]
  },
  {
   "cell_type": "code",
   "execution_count": 9,
   "metadata": {},
   "outputs": [],
   "source": [
    "logistic_regression = pd.read_csv(\"./Classification reports/logisticregression_report.csv\",)\n",
    "logistic_regression_4grams = pd.read_csv(\"./Classification reports/logisticregression_4grams_report.csv\")\n",
    "linear_svm = pd.read_csv(\"./Classification reports/linear_svm_report.csv\")\n",
    "sgd_logloss = pd.read_csv(\"./Classification reports/SGD_500tags_analysis_report.csv\")"
   ]
  },
  {
   "cell_type": "code",
   "execution_count": 11,
   "metadata": {},
   "outputs": [],
   "source": [
    "log_reg = logistic_regression[\"f1-score\"].iloc[500]\n",
    "log_reg_4gram = logistic_regression_4grams[\"f1-score\"].iloc[500]\n",
    "lin_svm = linear_svm[\"f1-score\"].iloc[500]\n",
    "sgd_log = sgd_logloss[\"f1-score\"].iloc[500]"
   ]
  },
  {
   "cell_type": "code",
   "execution_count": 17,
   "metadata": {},
   "outputs": [
    {
     "data": {
      "image/png": "[encoded data removed]",
      "text/plain": [
       "<Figure size 432x288 with 1 Axes>"
      ]
     },
     "metadata": {
      "needs_background": "light"
     },
     "output_type": "display_data"
    },
    {
     "name": "stdout",
     "output_type": "stream",
     "text": [
      "\n",
      " [0.4756182706794546, 0.4773865672187489, 0.4772299310773506, 0.4765095502156501]\n"
     ]
    }
   ],
   "source": [
    "# Now plot then to get better understanding \n",
    "y=[sgd_log,log_reg,log_reg_4gram,lin_svm]\n",
    "sb.barplot([\"SGD\",\"Log_reg\",\"Log_reg_4grams\",\"Lin_svm\"],y)\n",
    "plt.xlabel(\"Micro F1 score\")\n",
    "plt.ylabel(\"values between 0 to 1 (Higher is better)\")\n",
    "plt.title(\"Micro F1 Scores between all linear models\")\n",
    "plt.show()\n",
    "print(\"\\n\",y)"
   ]
  },
  {
   "cell_type": "code",
   "execution_count": 21,
   "metadata": {},
   "outputs": [
    {
     "data": {
      "text/html": [
       "<div>\n",
       "<style scoped>\n",
       "    .dataframe tbody tr th:only-of-type {\n",
       "        vertical-align: middle;\n",
       "    }\n",
       "\n",
       "    .dataframe tbody tr th {\n",
       "        vertical-align: top;\n",
       "    }\n",
       "\n",
       "    .dataframe thead th {\n",
       "        text-align: right;\n",
       "    }\n",
       "</style>\n",
       "<table border=\"1\" class=\"dataframe\">\n",
       "  <thead>\n",
       "    <tr style=\"text-align: right;\">\n",
       "      <th></th>\n",
       "      <th>precision</th>\n",
       "      <th>recall</th>\n",
       "      <th>f1-score</th>\n",
       "      <th>support</th>\n",
       "    </tr>\n",
       "  </thead>\n",
       "  <tbody>\n",
       "    <tr>\n",
       "      <th>0</th>\n",
       "      <td>0.638498</td>\n",
       "      <td>0.265107</td>\n",
       "      <td>0.374656</td>\n",
       "      <td>1539.0</td>\n",
       "    </tr>\n",
       "    <tr>\n",
       "      <th>1</th>\n",
       "      <td>0.813433</td>\n",
       "      <td>0.479121</td>\n",
       "      <td>0.603043</td>\n",
       "      <td>1365.0</td>\n",
       "    </tr>\n",
       "    <tr>\n",
       "      <th>2</th>\n",
       "      <td>0.847418</td>\n",
       "      <td>0.534815</td>\n",
       "      <td>0.655767</td>\n",
       "      <td>1350.0</td>\n",
       "    </tr>\n",
       "    <tr>\n",
       "      <th>3</th>\n",
       "      <td>0.772789</td>\n",
       "      <td>0.439628</td>\n",
       "      <td>0.560434</td>\n",
       "      <td>1292.0</td>\n",
       "    </tr>\n",
       "    <tr>\n",
       "      <th>4</th>\n",
       "      <td>0.947883</td>\n",
       "      <td>0.776000</td>\n",
       "      <td>0.853372</td>\n",
       "      <td>1125.0</td>\n",
       "    </tr>\n",
       "  </tbody>\n",
       "</table>\n",
       "</div>"
      ],
      "text/plain": [
       "   precision    recall  f1-score  support\n",
       "0   0.638498  0.265107  0.374656   1539.0\n",
       "1   0.813433  0.479121  0.603043   1365.0\n",
       "2   0.847418  0.534815  0.655767   1350.0\n",
       "3   0.772789  0.439628  0.560434   1292.0\n",
       "4   0.947883  0.776000  0.853372   1125.0"
      ]
     },
     "execution_count": 21,
     "metadata": {},
     "output_type": "execute_result"
    }
   ],
   "source": [
    "logistic_regression.head()"
   ]
  },
  {
   "cell_type": "code",
   "execution_count": 22,
   "metadata": {},
   "outputs": [
    {
     "data": {
      "text/html": [
       "<div>\n",
       "<style scoped>\n",
       "    .dataframe tbody tr th:only-of-type {\n",
       "        vertical-align: middle;\n",
       "    }\n",
       "\n",
       "    .dataframe tbody tr th {\n",
       "        vertical-align: top;\n",
       "    }\n",
       "\n",
       "    .dataframe thead th {\n",
       "        text-align: right;\n",
       "    }\n",
       "</style>\n",
       "<table border=\"1\" class=\"dataframe\">\n",
       "  <thead>\n",
       "    <tr style=\"text-align: right;\">\n",
       "      <th></th>\n",
       "      <th>precision</th>\n",
       "      <th>recall</th>\n",
       "      <th>f1-score</th>\n",
       "      <th>support</th>\n",
       "    </tr>\n",
       "  </thead>\n",
       "  <tbody>\n",
       "    <tr>\n",
       "      <th>0</th>\n",
       "      <td>0.640063</td>\n",
       "      <td>0.265757</td>\n",
       "      <td>0.375574</td>\n",
       "      <td>1539.0</td>\n",
       "    </tr>\n",
       "    <tr>\n",
       "      <th>1</th>\n",
       "      <td>0.813433</td>\n",
       "      <td>0.479121</td>\n",
       "      <td>0.603043</td>\n",
       "      <td>1365.0</td>\n",
       "    </tr>\n",
       "    <tr>\n",
       "      <th>2</th>\n",
       "      <td>0.847418</td>\n",
       "      <td>0.534815</td>\n",
       "      <td>0.655767</td>\n",
       "      <td>1350.0</td>\n",
       "    </tr>\n",
       "    <tr>\n",
       "      <th>3</th>\n",
       "      <td>0.774590</td>\n",
       "      <td>0.438854</td>\n",
       "      <td>0.560277</td>\n",
       "      <td>1292.0</td>\n",
       "    </tr>\n",
       "    <tr>\n",
       "      <th>4</th>\n",
       "      <td>0.947883</td>\n",
       "      <td>0.776000</td>\n",
       "      <td>0.853372</td>\n",
       "      <td>1125.0</td>\n",
       "    </tr>\n",
       "  </tbody>\n",
       "</table>\n",
       "</div>"
      ],
      "text/plain": [
       "   precision    recall  f1-score  support\n",
       "0   0.640063  0.265757  0.375574   1539.0\n",
       "1   0.813433  0.479121  0.603043   1365.0\n",
       "2   0.847418  0.534815  0.655767   1350.0\n",
       "3   0.774590  0.438854  0.560277   1292.0\n",
       "4   0.947883  0.776000  0.853372   1125.0"
      ]
     },
     "execution_count": 22,
     "metadata": {},
     "output_type": "execute_result"
    }
   ],
   "source": [
    "logistic_regression_4grams.head()"
   ]
  },
  {
   "cell_type": "code",
   "execution_count": 23,
   "metadata": {},
   "outputs": [
    {
     "data": {
      "text/html": [
       "<div>\n",
       "<style scoped>\n",
       "    .dataframe tbody tr th:only-of-type {\n",
       "        vertical-align: middle;\n",
       "    }\n",
       "\n",
       "    .dataframe tbody tr th {\n",
       "        vertical-align: top;\n",
       "    }\n",
       "\n",
       "    .dataframe thead th {\n",
       "        text-align: right;\n",
       "    }\n",
       "</style>\n",
       "<table border=\"1\" class=\"dataframe\">\n",
       "  <thead>\n",
       "    <tr style=\"text-align: right;\">\n",
       "      <th></th>\n",
       "      <th>precision</th>\n",
       "      <th>recall</th>\n",
       "      <th>f1-score</th>\n",
       "      <th>support</th>\n",
       "    </tr>\n",
       "  </thead>\n",
       "  <tbody>\n",
       "    <tr>\n",
       "      <th>0</th>\n",
       "      <td>0.686475</td>\n",
       "      <td>0.217674</td>\n",
       "      <td>0.330538</td>\n",
       "      <td>1539.0</td>\n",
       "    </tr>\n",
       "    <tr>\n",
       "      <th>1</th>\n",
       "      <td>0.824308</td>\n",
       "      <td>0.501832</td>\n",
       "      <td>0.623862</td>\n",
       "      <td>1365.0</td>\n",
       "    </tr>\n",
       "    <tr>\n",
       "      <th>2</th>\n",
       "      <td>0.855367</td>\n",
       "      <td>0.560741</td>\n",
       "      <td>0.677405</td>\n",
       "      <td>1350.0</td>\n",
       "    </tr>\n",
       "    <tr>\n",
       "      <th>3</th>\n",
       "      <td>0.815549</td>\n",
       "      <td>0.414087</td>\n",
       "      <td>0.549281</td>\n",
       "      <td>1292.0</td>\n",
       "    </tr>\n",
       "    <tr>\n",
       "      <th>4</th>\n",
       "      <td>0.952479</td>\n",
       "      <td>0.819556</td>\n",
       "      <td>0.881032</td>\n",
       "      <td>1125.0</td>\n",
       "    </tr>\n",
       "  </tbody>\n",
       "</table>\n",
       "</div>"
      ],
      "text/plain": [
       "   precision    recall  f1-score  support\n",
       "0   0.686475  0.217674  0.330538   1539.0\n",
       "1   0.824308  0.501832  0.623862   1365.0\n",
       "2   0.855367  0.560741  0.677405   1350.0\n",
       "3   0.815549  0.414087  0.549281   1292.0\n",
       "4   0.952479  0.819556  0.881032   1125.0"
      ]
     },
     "execution_count": 23,
     "metadata": {},
     "output_type": "execute_result"
    }
   ],
   "source": [
    "linear_svm.head()"
   ]
  },
  {
   "cell_type": "code",
   "execution_count": 24,
   "metadata": {},
   "outputs": [
    {
     "data": {
      "text/html": [
       "<div>\n",
       "<style scoped>\n",
       "    .dataframe tbody tr th:only-of-type {\n",
       "        vertical-align: middle;\n",
       "    }\n",
       "\n",
       "    .dataframe tbody tr th {\n",
       "        vertical-align: top;\n",
       "    }\n",
       "\n",
       "    .dataframe thead th {\n",
       "        text-align: right;\n",
       "    }\n",
       "</style>\n",
       "<table border=\"1\" class=\"dataframe\">\n",
       "  <thead>\n",
       "    <tr style=\"text-align: right;\">\n",
       "      <th></th>\n",
       "      <th>precision</th>\n",
       "      <th>recall</th>\n",
       "      <th>f1-score</th>\n",
       "      <th>support</th>\n",
       "    </tr>\n",
       "  </thead>\n",
       "  <tbody>\n",
       "    <tr>\n",
       "      <th>0</th>\n",
       "      <td>0.623762</td>\n",
       "      <td>0.286550</td>\n",
       "      <td>0.392698</td>\n",
       "      <td>1539.0</td>\n",
       "    </tr>\n",
       "    <tr>\n",
       "      <th>1</th>\n",
       "      <td>0.811392</td>\n",
       "      <td>0.469597</td>\n",
       "      <td>0.594896</td>\n",
       "      <td>1365.0</td>\n",
       "    </tr>\n",
       "    <tr>\n",
       "      <th>2</th>\n",
       "      <td>0.846517</td>\n",
       "      <td>0.531111</td>\n",
       "      <td>0.652708</td>\n",
       "      <td>1350.0</td>\n",
       "    </tr>\n",
       "    <tr>\n",
       "      <th>3</th>\n",
       "      <td>0.777018</td>\n",
       "      <td>0.439628</td>\n",
       "      <td>0.561542</td>\n",
       "      <td>1292.0</td>\n",
       "    </tr>\n",
       "    <tr>\n",
       "      <th>4</th>\n",
       "      <td>0.948052</td>\n",
       "      <td>0.778667</td>\n",
       "      <td>0.855051</td>\n",
       "      <td>1125.0</td>\n",
       "    </tr>\n",
       "  </tbody>\n",
       "</table>\n",
       "</div>"
      ],
      "text/plain": [
       "   precision    recall  f1-score  support\n",
       "0   0.623762  0.286550  0.392698   1539.0\n",
       "1   0.811392  0.469597  0.594896   1365.0\n",
       "2   0.846517  0.531111  0.652708   1350.0\n",
       "3   0.777018  0.439628  0.561542   1292.0\n",
       "4   0.948052  0.778667  0.855051   1125.0"
      ]
     },
     "execution_count": 24,
     "metadata": {},
     "output_type": "execute_result"
    }
   ],
   "source": [
    "sgd_logloss.head()"
   ]
  },
  {
   "cell_type": "markdown",
   "metadata": {},
   "source": [
    "**Observation**\n",
    "* All models are giving approx same values so we are going with logistic regression because it takes less time to conver and with more accuracy."
   ]
  },
  {
   "cell_type": "markdown",
   "metadata": {},
   "source": [
    "## Hyper parameter Tuning with GridsearchCV"
   ]
  },
  {
   "cell_type": "code",
   "execution_count": 19,
   "metadata": {},
   "outputs": [],
   "source": [
    "hp_tuning = pd.read_csv(\"./Model classification reports/hyperparameter_tunning_scores.csv\")"
   ]
  },
  {
   "cell_type": "code",
   "execution_count": 25,
   "metadata": {},
   "outputs": [
    {
     "data": {
      "image/png": "[encoded data removed]",
      "text/plain": [
       "<Figure size 720x432 with 1 Axes>"
      ]
     },
     "metadata": {
      "needs_background": "light"
     },
     "output_type": "display_data"
    }
   ],
   "source": [
    "plt.figure(figsize=(10,6))\n",
    "X = ['C=.001','C=.010',\"C=0.1\",'C=1','C=10','C=20']\n",
    "X_axis = np.arange(len(X))\n",
    "plt.bar(X_axis, list(hp_tuning[\"means\"]), 0.4, label = 'mean_Scores')\n",
    "plt.xticks(X_axis, X)\n",
    "plt.xlabel(\"C parameters\")\n",
    "plt.ylabel(\"Score\")\n",
    "plt.title(\"Means Scores bars\")\n",
    "plt.legend()\n",
    "plt.show()"
   ]
  },
  {
   "cell_type": "markdown",
   "metadata": {},
   "source": [
    "**Observations**\n",
    "* c=20 is giving best results so we will continue with c=20"
   ]
  },
  {
   "cell_type": "markdown",
   "metadata": {},
   "source": [
    "# Now we are done with the analysis now lets build final model"
   ]
  },
  {
   "cell_type": "markdown",
   "metadata": {},
   "source": [
    "Link of that final Notebook is: "
   ]
  }
 ],
 "metadata": {
  "kernelspec": {
   "display_name": "Python 3",
   "language": "python",
   "name": "python3"
  },
  "language_info": {
   "codemirror_mode": {
    "name": "ipython",
    "version": 3
   },
   "file_extension": ".py",
   "mimetype": "text/x-python",
   "name": "python",
   "nbconvert_exporter": "python",
   "pygments_lexer": "ipython3",
   "version": "3.8.5"
  }
 },
 "nbformat": 4,
 "nbformat_minor": 4
}
