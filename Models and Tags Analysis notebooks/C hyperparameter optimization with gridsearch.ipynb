{
 "cells": [
  {
   "cell_type": "markdown",
   "metadata": {},
   "source": [
    "# C hyperparameter tuning with grid search on Logistic regression"
   ]
  },
  {
   "cell_type": "code",
   "execution_count": 1,
   "metadata": {
    "id": "NLC-Q5ccjpnX"
   },
   "outputs": [],
   "source": [
    "import pandas as pd\n",
    "import numpy as np\n",
    "import re\n",
    "from tqdm import tqdm\n",
    "import warnings\n",
    "warnings.filterwarnings(\"ignore\")\n",
    "import matplotlib.pyplot as plt\n",
    "import seaborn as sns\n",
    "from sklearn.feature_extraction.text import CountVectorizer\n",
    "from sklearn.feature_extraction.text import TfidfVectorizer\n",
    "from wordcloud import WordCloud\n",
    "from sklearn.model_selection import GridSearchCV\n",
    "from nltk.corpus import stopwords\n",
    "from nltk.tokenize import word_tokenize\n",
    "from nltk.stem.snowball import SnowballStemmer\n",
    "from sklearn.model_selection import train_test_split\n",
    "from sklearn.multiclass import OneVsRestClassifier\n",
    "from sklearn.linear_model import SGDClassifier\n",
    "from sklearn.linear_model import LogisticRegression\n",
    "from sklearn import metrics\n",
    "from sklearn.metrics import f1_score,precision_score,recall_score"
   ]
  },
  {
   "cell_type": "code",
   "execution_count": 42,
   "metadata": {
    "colab": {
     "base_uri": "https://localhost:8080/"
    },
    "id": "ybzJm07bpaEt",
    "outputId": "859fe492-b1bc-4fb7-b573-1734040e5e4a"
   },
   "outputs": [
    {
     "name": "stdout",
     "output_type": "stream",
     "text": [
      "Wall time: 6.5 s\n"
     ]
    },
    {
     "data": {
      "text/html": [
       "<div>\n",
       "<style scoped>\n",
       "    .dataframe tbody tr th:only-of-type {\n",
       "        vertical-align: middle;\n",
       "    }\n",
       "\n",
       "    .dataframe tbody tr th {\n",
       "        vertical-align: top;\n",
       "    }\n",
       "\n",
       "    .dataframe thead th {\n",
       "        text-align: right;\n",
       "    }\n",
       "</style>\n",
       "<table border=\"1\" class=\"dataframe\">\n",
       "  <thead>\n",
       "    <tr style=\"text-align: right;\">\n",
       "      <th></th>\n",
       "      <th>Unnamed: 0</th>\n",
       "      <th>question</th>\n",
       "      <th>code</th>\n",
       "      <th>tags</th>\n",
       "      <th>word_count_before</th>\n",
       "      <th>word_count_after</th>\n",
       "      <th>is_code</th>\n",
       "    </tr>\n",
       "  </thead>\n",
       "  <tbody>\n",
       "    <tr>\n",
       "      <th>0</th>\n",
       "      <td>0</td>\n",
       "      <td>gvim window path issu gvim window path issu gv...</td>\n",
       "      <td>['\\\\...\\\\gvim\\\\vim73\\n', '\\\\...\\\\gvim\\n', 'vim...</td>\n",
       "      <td>windows-7 windows-xp vim gvim</td>\n",
       "      <td>749</td>\n",
       "      <td>341</td>\n",
       "      <td>1</td>\n",
       "    </tr>\n",
       "    <tr>\n",
       "      <th>1</th>\n",
       "      <td>1</td>\n",
       "      <td>pass quotient via quotient map preserv topolog...</td>\n",
       "      <td>[]</td>\n",
       "      <td>general-topology</td>\n",
       "      <td>701</td>\n",
       "      <td>446</td>\n",
       "      <td>0</td>\n",
       "    </tr>\n",
       "    <tr>\n",
       "      <th>2</th>\n",
       "      <td>2</td>\n",
       "      <td>jqueri cycl function paramet jqueri cycl funct...</td>\n",
       "      <td>['$container.cycle(i, manualEffects[i]);', '$(...</td>\n",
       "      <td>jquery jquery-cycle</td>\n",
       "      <td>1083</td>\n",
       "      <td>211</td>\n",
       "      <td>1</td>\n",
       "    </tr>\n",
       "  </tbody>\n",
       "</table>\n",
       "</div>"
      ],
      "text/plain": [
       "   Unnamed: 0                                           question  \\\n",
       "0           0  gvim window path issu gvim window path issu gv...   \n",
       "1           1  pass quotient via quotient map preserv topolog...   \n",
       "2           2  jqueri cycl function paramet jqueri cycl funct...   \n",
       "\n",
       "                                                code  \\\n",
       "0  ['\\\\...\\\\gvim\\\\vim73\\n', '\\\\...\\\\gvim\\n', 'vim...   \n",
       "1                                                 []   \n",
       "2  ['$container.cycle(i, manualEffects[i]);', '$(...   \n",
       "\n",
       "                            tags  word_count_before  word_count_after  is_code  \n",
       "0  windows-7 windows-xp vim gvim                749               341        1  \n",
       "1               general-topology                701               446        0  \n",
       "2            jquery jquery-cycle               1083               211        1  "
      ]
     },
     "execution_count": 42,
     "metadata": {},
     "output_type": "execute_result"
    }
   ],
   "source": [
    "%%time\n",
    "## sample_500k is a sample from main dataset \n",
    "preprocess_data = pd.read_csv(\"preprocessed_3title_100k.csv\")\n",
    "preprocess_data.head(3)"
   ]
  },
  {
   "cell_type": "code",
   "execution_count": 3,
   "metadata": {
    "id": "maFUOrv8piay"
   },
   "outputs": [],
   "source": [
    "def text_splitter(text):\n",
    "    return text.split()"
   ]
  },
  {
   "cell_type": "code",
   "execution_count": 4,
   "metadata": {
    "id": "TO5BUgLMpiYU"
   },
   "outputs": [],
   "source": [
    "# binary='true' will give a binary vectorizer\n",
    "tag_vectorizer = CountVectorizer(tokenizer = text_splitter, binary=True)\n",
    "multi_label_y = tag_vectorizer.fit_transform(preprocess_data['tags'].values.astype(str))"
   ]
  },
  {
   "cell_type": "code",
   "execution_count": 5,
   "metadata": {
    "id": "X0OwaY-FpiVT"
   },
   "outputs": [],
   "source": [
    "# make sum column wise\n",
    "tag_column_sum = multi_label_y.sum(axis=0).tolist()[0]"
   ]
  },
  {
   "cell_type": "code",
   "execution_count": 6,
   "metadata": {
    "id": "RW0287DLpiN1"
   },
   "outputs": [],
   "source": [
    "# To select n number of top tags\n",
    "def select_top_tags(n):\n",
    "    \n",
    "    # To get sotred list (means: tags appear in maximum number of questions come first)\n",
    "    # top 10: [3711, 15246, 22934, 15324, 1054, 15713, 3720, 24481, 14905, 1897]\n",
    "    sorted_tags = sorted(range(len(tag_column_sum)), key=lambda i: tag_column_sum[i], reverse=True)\n",
    "    \n",
    "    # With this line of code we get tags in our columns which are come in most of the questions\n",
    "    # we will get shape: (999999, n)\n",
    "    multi_label_n_y = multi_label_y[:,sorted_tags[:n]]\n",
    "    return multi_label_n_y\n",
    "# \n",
    "def questions_covered_fn(n):\n",
    "    multi_label_n_y = select_top_tags(n)\n",
    "    \n",
    "    # This line will give us row wise sum of each row  [[1, 2],           [[3],\n",
    "    #                                                   [4, 3]]     to     [7]]\n",
    "    row_sum_array = multi_label_n_y.sum(axis=1)\n",
    "\n",
    "    # Counts the number of non-zero values in the array\n",
    "    return (np.count_nonzero(row_sum_array==0))\n",
    "# With this code we checking how much percent questions are explained by how many tags\n",
    "# Here we are starting from 500 because we think top 500 are most important tags we can't skip them\n",
    "questions_covered=[]\n",
    "total_tags=multi_label_y.shape[1]\n",
    "total_qs=preprocess_data.shape[0]\n",
    "for i in range(500, total_tags, 100):\n",
    "    questions_covered.append(np.round(((total_qs-questions_covered_fn(i))/total_qs)*100,3))"
   ]
  },
  {
   "cell_type": "code",
   "execution_count": 7,
   "metadata": {
    "colab": {
     "base_uri": "https://localhost:8080/"
    },
    "id": "WzcxKHI7p06r",
    "outputId": "51665d11-964a-4566-c99d-10590c3212ff"
   },
   "outputs": [
    {
     "name": "stdout",
     "output_type": "stream",
     "text": [
      "number of questions that are not covered : 896 out of  100000\n"
     ]
    }
   ],
   "source": [
    "multi_label_n_y = select_top_tags(500)\n",
    "print(\"number of questions that are not covered :\", questions_covered_fn(5500),\"out of \", total_qs)"
   ]
  },
  {
   "cell_type": "code",
   "execution_count": 8,
   "metadata": {
    "colab": {
     "base_uri": "https://localhost:8080/"
    },
    "id": "__bsrlppp02Q",
    "outputId": "5f1ce5df-36b2-4b99-df5c-ca415dd6b67b"
   },
   "outputs": [
    {
     "name": "stdout",
     "output_type": "stream",
     "text": [
      "Number of tags in sample : 18646\n",
      "number of tags taken : 500 --> 2.7 %\n"
     ]
    }
   ],
   "source": [
    "print(\"Number of tags in sample :\", multi_label_y.shape[1])\n",
    "print(\"number of tags taken :\", multi_label_n_y.shape[1],\"-->\",round((multi_label_n_y.shape[1]/multi_label_y.shape[1]),3)*100,\"%\")"
   ]
  },
  {
   "cell_type": "code",
   "execution_count": 9,
   "metadata": {
    "id": "p9hMtVnkp0zu"
   },
   "outputs": [],
   "source": [
    "total_size=preprocess_data.shape[0]\n",
    "train_size=int(0.80*total_size)\n",
    "\n",
    "x_train=preprocess_data.head(train_size)\n",
    "x_test=preprocess_data.tail(total_size - train_size)\n",
    "\n",
    "y_train = multi_label_n_y[0:train_size,:]\n",
    "y_test = multi_label_n_y[train_size:total_size,:]"
   ]
  },
  {
   "cell_type": "code",
   "execution_count": 10,
   "metadata": {
    "colab": {
     "base_uri": "https://localhost:8080/"
    },
    "id": "Prtbt2v-p0w3",
    "outputId": "8a0fc490-078b-45de-def1-0583b931552b"
   },
   "outputs": [
    {
     "name": "stdout",
     "output_type": "stream",
     "text": [
      "Wall time: 57.3 s\n"
     ]
    }
   ],
   "source": [
    "%%time\n",
    "# To get new features with tfidf technique get 200000 features with upto 3-grams\n",
    "vectorizer = TfidfVectorizer(min_df=0.00009, max_features=200000, smooth_idf=True, norm=\"l2\", tokenizer = text_splitter, sublinear_tf=False, ngram_range=(1,3))\n",
    "# Apply this vectorizer only on question data column\n",
    "x_train_multi_label = vectorizer.fit_transform(x_train['question'])\n",
    "x_test_multi_label = vectorizer.transform(x_test['question'])"
   ]
  },
  {
   "cell_type": "code",
   "execution_count": 11,
   "metadata": {
    "colab": {
     "base_uri": "https://localhost:8080/"
    },
    "id": "QDB26LyJp8nJ",
    "outputId": "60d3b8fb-7c6b-40a2-d66a-6253866f673c"
   },
   "outputs": [
    {
     "name": "stdout",
     "output_type": "stream",
     "text": [
      "Dimensions of train data X: (80000, 91388) Y : (80000, 500)\n",
      "Dimensions of test data X: (20000, 91388) Y: (20000, 500)\n"
     ]
    }
   ],
   "source": [
    "# Now check data shapes after featurization\n",
    "print(\"Dimensions of train data X:\",x_train_multi_label.shape, \"Y :\",y_train.shape)\n",
    "print(\"Dimensions of test data X:\",x_test_multi_label.shape,\"Y:\",y_test.shape)"
   ]
  },
  {
   "cell_type": "code",
   "execution_count": 13,
   "metadata": {
    "id": "xeUrHtcNDLWT"
   },
   "outputs": [],
   "source": [
    "param_grid = [    \n",
    "    {\n",
    "    'estimator__C' : [0.001,0.01,0.1,1,10,20]\n",
    "    }\n",
    "]"
   ]
  },
  {
   "cell_type": "code",
   "execution_count": 14,
   "metadata": {
    "id": "dtwgLamfp8iC"
   },
   "outputs": [],
   "source": [
    "logModel = OneVsRestClassifier(LogisticRegression())"
   ]
  },
  {
   "cell_type": "code",
   "execution_count": 15,
   "metadata": {
    "id": "HHJaQeMhEQ5j"
   },
   "outputs": [],
   "source": [
    "classifier = GridSearchCV(logModel, param_grid = param_grid, cv = 3, verbose=True, n_jobs=-1)"
   ]
  },
  {
   "cell_type": "code",
   "execution_count": 16,
   "metadata": {
    "colab": {
     "base_uri": "https://localhost:8080/"
    },
    "id": "s_fN2p0Rp8fT",
    "outputId": "45b11bb9-5520-485d-a63b-54e586e61f0f"
   },
   "outputs": [
    {
     "name": "stdout",
     "output_type": "stream",
     "text": [
      "Fitting 3 folds for each of 6 candidates, totalling 18 fits\n"
     ]
    },
    {
     "name": "stderr",
     "output_type": "stream",
     "text": [
      "[Parallel(n_jobs=-1)]: Using backend LokyBackend with 4 concurrent workers.\n",
      "[Parallel(n_jobs=-1)]: Done  18 out of  18 | elapsed: 131.4min finished\n"
     ]
    },
    {
     "name": "stdout",
     "output_type": "stream",
     "text": [
      "Time it takes to run this : 163.06704697211583 minutes\n"
     ]
    }
   ],
   "source": [
    "import time\n",
    "start = time.time()\n",
    "classifier.fit(x_train_multi_label, y_train)\n",
    "print(\"Time it takes to run this :\",(time.time()-start)/60,\"minutes\")"
   ]
  },
  {
   "cell_type": "code",
   "execution_count": 20,
   "metadata": {},
   "outputs": [
    {
     "data": {
      "text/plain": [
       "OneVsRestClassifier(estimator=LogisticRegression(C=20))"
      ]
     },
     "execution_count": 20,
     "metadata": {},
     "output_type": "execute_result"
    }
   ],
   "source": [
    "classifier.best_estimator_"
   ]
  },
  {
   "cell_type": "code",
   "execution_count": 41,
   "metadata": {},
   "outputs": [
    {
     "data": {
      "text/html": [
       "<div>\n",
       "<style scoped>\n",
       "    .dataframe tbody tr th:only-of-type {\n",
       "        vertical-align: middle;\n",
       "    }\n",
       "\n",
       "    .dataframe tbody tr th {\n",
       "        vertical-align: top;\n",
       "    }\n",
       "\n",
       "    .dataframe thead th {\n",
       "        text-align: right;\n",
       "    }\n",
       "</style>\n",
       "<table border=\"1\" class=\"dataframe\">\n",
       "  <thead>\n",
       "    <tr style=\"text-align: right;\">\n",
       "      <th></th>\n",
       "      <th>split0</th>\n",
       "      <th>split1</th>\n",
       "      <th>split2</th>\n",
       "      <th>means</th>\n",
       "      <th>stds</th>\n",
       "      <th>rank</th>\n",
       "      <th>C's</th>\n",
       "    </tr>\n",
       "  </thead>\n",
       "  <tbody>\n",
       "    <tr>\n",
       "      <th>0</th>\n",
       "      <td>0.099261</td>\n",
       "      <td>0.098286</td>\n",
       "      <td>0.098365</td>\n",
       "      <td>0.098637</td>\n",
       "      <td>0.000442</td>\n",
       "      <td>5</td>\n",
       "      <td>0.001</td>\n",
       "    </tr>\n",
       "    <tr>\n",
       "      <th>1</th>\n",
       "      <td>0.099261</td>\n",
       "      <td>0.098286</td>\n",
       "      <td>0.098365</td>\n",
       "      <td>0.098637</td>\n",
       "      <td>0.000442</td>\n",
       "      <td>5</td>\n",
       "      <td>0.010</td>\n",
       "    </tr>\n",
       "    <tr>\n",
       "      <th>2</th>\n",
       "      <td>0.123223</td>\n",
       "      <td>0.119999</td>\n",
       "      <td>0.121616</td>\n",
       "      <td>0.121613</td>\n",
       "      <td>0.001317</td>\n",
       "      <td>4</td>\n",
       "      <td>0.100</td>\n",
       "    </tr>\n",
       "    <tr>\n",
       "      <th>3</th>\n",
       "      <td>0.190235</td>\n",
       "      <td>0.189448</td>\n",
       "      <td>0.192492</td>\n",
       "      <td>0.190725</td>\n",
       "      <td>0.001290</td>\n",
       "      <td>3</td>\n",
       "      <td>1.000</td>\n",
       "    </tr>\n",
       "    <tr>\n",
       "      <th>4</th>\n",
       "      <td>0.223760</td>\n",
       "      <td>0.227585</td>\n",
       "      <td>0.228456</td>\n",
       "      <td>0.226600</td>\n",
       "      <td>0.002040</td>\n",
       "      <td>2</td>\n",
       "      <td>10.000</td>\n",
       "    </tr>\n",
       "    <tr>\n",
       "      <th>5</th>\n",
       "      <td>0.225372</td>\n",
       "      <td>0.229385</td>\n",
       "      <td>0.229018</td>\n",
       "      <td>0.227925</td>\n",
       "      <td>0.001811</td>\n",
       "      <td>1</td>\n",
       "      <td>20.000</td>\n",
       "    </tr>\n",
       "  </tbody>\n",
       "</table>\n",
       "</div>"
      ],
      "text/plain": [
       "     split0    split1    split2     means      stds  rank     C's\n",
       "0  0.099261  0.098286  0.098365  0.098637  0.000442     5   0.001\n",
       "1  0.099261  0.098286  0.098365  0.098637  0.000442     5   0.010\n",
       "2  0.123223  0.119999  0.121616  0.121613  0.001317     4   0.100\n",
       "3  0.190235  0.189448  0.192492  0.190725  0.001290     3   1.000\n",
       "4  0.223760  0.227585  0.228456  0.226600  0.002040     2  10.000\n",
       "5  0.225372  0.229385  0.229018  0.227925  0.001811     1  20.000"
      ]
     },
     "execution_count": 41,
     "metadata": {},
     "output_type": "execute_result"
    }
   ],
   "source": [
    "scores = pd.DataFrame({\n",
    "\"split0\" : list(classifier.cv_results_['split0_test_score']),\n",
    "\"split1\":list(classifier.cv_results_['split1_test_score']),\n",
    "\"split2\": list(classifier.cv_results_['split2_test_score']),\n",
    "\"means\": list(classifier.cv_results_['mean_test_score']),\n",
    "\"stds\": list(classifier.cv_results_['std_test_score']),\n",
    "\"rank\": list(classifier.cv_results_['rank_test_score']),\n",
    "\"C's\":[0.001,0.01,0.1,1,10,20]})\n",
    "scores.to_csv(\"scores.csv\")\n",
    "scores"
   ]
  },
  {
   "cell_type": "code",
   "execution_count": 68,
   "metadata": {},
   "outputs": [
    {
     "data": {
      "image/png": "[encoded data removed]",
      "text/plain": [
       "<Figure size 720x432 with 1 Axes>"
      ]
     },
     "metadata": {
      "needs_background": "light"
     },
     "output_type": "display_data"
    }
   ],
   "source": [
    "plt.figure(figsize=(10,6))\n",
    "X = ['C=.001','C=.010',\"C=0.1\",'C=1','C=10','C=20']\n",
    "X_axis = np.arange(len(X))\n",
    "plt.bar(X_axis, list(scores[\"means\"]), 0.4, label = 'mean_Scores')\n",
    "  \n",
    "plt.xticks(X_axis, X)\n",
    "plt.xlabel(\"C parameters\")\n",
    "plt.ylabel(\"Score\")\n",
    "plt.title(\"Means Scores bars\")\n",
    "plt.legend()\n",
    "plt.show()"
   ]
  },
  {
   "cell_type": "code",
   "execution_count": 64,
   "metadata": {},
   "outputs": [
    {
     "data": {
      "image/png": "[encoded data removed]",
      "text/plain": [
       "<Figure size 864x576 with 1 Axes>"
      ]
     },
     "metadata": {
      "needs_background": "light"
     },
     "output_type": "display_data"
    }
   ],
   "source": [
    "plt.figure(figsize=(12,8))\n",
    "X = ['C=.001','C=.010',\"C=0.1\",'C=1','C=10','C=20']\n",
    "X_axis = np.arange(len(X))\n",
    "plt.bar(X_axis - 0.2, list(scores[\"split0\"]), 0.2, label = 'CV_split0')\n",
    "plt.bar(X_axis + 0.2, list(scores[\"split1\"]), 0.2, label = 'CV_split1')\n",
    "plt.bar(X_axis, list(scores[\"split2\"]), 0.2, label = 'CV_split2')\n",
    "  \n",
    "plt.xticks(X_axis, X)\n",
    "plt.xlabel(\"C parameters\")\n",
    "plt.ylabel(\"Score\")\n",
    "plt.title(\"Scores of CV splits\")\n",
    "plt.legend()\n",
    "plt.show()"
   ]
  },
  {
   "cell_type": "code",
   "execution_count": 27,
   "metadata": {},
   "outputs": [
    {
     "data": {
      "text/plain": [
       "{'mean_fit_time': array([ 729.66392271,  726.57284021,  921.38793596, 1613.13118283,\n",
       "        3099.31731351, 2435.07060703]),\n",
       " 'std_fit_time': array([  1.0381594 ,   9.49583441,  30.03210402,   2.28140558,\n",
       "         36.41781134, 758.64347598]),\n",
       " 'mean_score_time': array([7.83805625, 8.57874425, 8.76657224, 9.34037264, 9.9819955 ,\n",
       "        4.31679575]),\n",
       " 'std_score_time': array([0.02898435, 0.09492749, 0.44358582, 0.0935338 , 0.20549384,\n",
       "        1.46007428]),\n",
       " 'param_estimator__C': masked_array(data=[0.001, 0.01, 0.1, 1, 10, 20],\n",
       "              mask=[False, False, False, False, False, False],\n",
       "        fill_value='?',\n",
       "             dtype=object),\n",
       " 'params': [{'estimator__C': 0.001},\n",
       "  {'estimator__C': 0.01},\n",
       "  {'estimator__C': 0.1},\n",
       "  {'estimator__C': 1},\n",
       "  {'estimator__C': 10},\n",
       "  {'estimator__C': 20}],\n",
       " 'split0_test_score': array([0.09926126, 0.09926126, 0.12322346, 0.19023512, 0.2237597 ,\n",
       "        0.22537218]),\n",
       " 'split1_test_score': array([0.09828627, 0.09828627, 0.1199985 , 0.18944763, 0.22758466,\n",
       "        0.22938463]),\n",
       " 'split2_test_score': array([0.09836496, 0.09836496, 0.12161554, 0.19249231, 0.22845571,\n",
       "        0.22901823]),\n",
       " 'mean_test_score': array([0.0986375 , 0.0986375 , 0.1216125 , 0.19072502, 0.22660002,\n",
       "        0.22792501]),\n",
       " 'std_test_score': array([0.00044224, 0.00044224, 0.00131659, 0.00129035, 0.00203965,\n",
       "        0.00181131]),\n",
       " 'rank_test_score': array([5, 5, 4, 3, 2, 1])}"
      ]
     },
     "execution_count": 27,
     "metadata": {},
     "output_type": "execute_result"
    }
   ],
   "source": [
    "classifier.cv_results_"
   ]
  },
  {
   "cell_type": "markdown",
   "metadata": {},
   "source": [
    "**Observations**\n",
    "* From above parameter hypertuning on C or Lamda we can clearly see that c=10 and c=20 are performing better than others.\n",
    "### Hence we dicide to go with C=20 because this one giving best results out of all other c's"
   ]
  }
 ],
 "metadata": {
  "colab": {
   "collapsed_sections": [],
   "name": "Logistic regression hyper parameter tuning.ipynb",
   "provenance": []
  },
  "kernelspec": {
   "display_name": "Python 3",
   "language": "python",
   "name": "python3"
  },
  "language_info": {
   "codemirror_mode": {
    "name": "ipython",
    "version": 3
   },
   "file_extension": ".py",
   "mimetype": "text/x-python",
   "name": "python",
   "nbconvert_exporter": "python",
   "pygments_lexer": "ipython3",
   "version": "3.8.5"
  }
 },
 "nbformat": 4,
 "nbformat_minor": 1
}
