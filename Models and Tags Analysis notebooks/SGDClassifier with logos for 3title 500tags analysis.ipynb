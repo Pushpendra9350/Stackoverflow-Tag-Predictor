{
 "cells": [
  {
   "cell_type": "markdown",
   "metadata": {},
   "source": [
    "# SGD Classifier for 500 tags Analysis model"
   ]
  },
  {
   "cell_type": "code",
   "execution_count": 1,
   "metadata": {
    "id": "lVKGTE9cVvHr"
   },
   "outputs": [],
   "source": [
    "import pandas as pd\n",
    "import numpy as np\n",
    "import re\n",
    "from tqdm import tqdm\n",
    "import warnings\n",
    "warnings.filterwarnings(\"ignore\")\n",
    "import matplotlib.pyplot as plt\n",
    "import seaborn as sns\n",
    "from sklearn.feature_extraction.text import CountVectorizer\n",
    "from sklearn.feature_extraction.text import TfidfVectorizer\n",
    "from wordcloud import WordCloud\n",
    "from nltk.corpus import stopwords\n",
    "from nltk.tokenize import word_tokenize\n",
    "from nltk.stem.snowball import SnowballStemmer\n",
    "from sklearn.model_selection import train_test_split\n",
    "from sklearn.multiclass import OneVsRestClassifier\n",
    "from sklearn.linear_model import SGDClassifier\n",
    "from sklearn.linear_model import LogisticRegression\n",
    "from sklearn import metrics\n",
    "from sklearn.metrics import f1_score,precision_score,recall_score"
   ]
  },
  {
   "cell_type": "code",
   "execution_count": 2,
   "metadata": {
    "colab": {
     "base_uri": "https://localhost:8080/"
    },
    "executionInfo": {
     "elapsed": 101109,
     "status": "ok",
     "timestamp": 1621579357650,
     "user": {
      "displayName": "pushpendra kumar",
      "photoUrl": "https://lh3.googleusercontent.com/a-/AOh14Ghqm6HPzzOFq3Niakh06UJCnrcKRlq4HcPeDBA3pw=s64",
      "userId": "17600318437856404893"
     },
     "user_tz": -330
    },
    "id": "zD42MacwggBj",
    "outputId": "1ee5bf86-2234-4293-f75d-e9cd5346cadc"
   },
   "outputs": [
    {
     "name": "stdout",
     "output_type": "stream",
     "text": [
      "Wall time: 6.44 s\n"
     ]
    },
    {
     "data": {
      "text/html": [
       "<div>\n",
       "<style scoped>\n",
       "    .dataframe tbody tr th:only-of-type {\n",
       "        vertical-align: middle;\n",
       "    }\n",
       "\n",
       "    .dataframe tbody tr th {\n",
       "        vertical-align: top;\n",
       "    }\n",
       "\n",
       "    .dataframe thead th {\n",
       "        text-align: right;\n",
       "    }\n",
       "</style>\n",
       "<table border=\"1\" class=\"dataframe\">\n",
       "  <thead>\n",
       "    <tr style=\"text-align: right;\">\n",
       "      <th></th>\n",
       "      <th>Unnamed: 0</th>\n",
       "      <th>Id</th>\n",
       "      <th>Title</th>\n",
       "      <th>Body</th>\n",
       "      <th>Tags</th>\n",
       "    </tr>\n",
       "  </thead>\n",
       "  <tbody>\n",
       "    <tr>\n",
       "      <th>0</th>\n",
       "      <td>1655767</td>\n",
       "      <td>1655768</td>\n",
       "      <td>Wordpress plugin for Frontend Content Entry form?</td>\n",
       "      <td>&lt;p&gt;Is there a wordpress plugin for content ent...</td>\n",
       "      <td>wordpress wordpress-plugin</td>\n",
       "    </tr>\n",
       "    <tr>\n",
       "      <th>1</th>\n",
       "      <td>2641299</td>\n",
       "      <td>2641300</td>\n",
       "      <td>HTML: Nesting DIVs problem</td>\n",
       "      <td>&lt;p&gt;I am coding a form generator. So far, so go...</td>\n",
       "      <td>html</td>\n",
       "    </tr>\n",
       "    <tr>\n",
       "      <th>2</th>\n",
       "      <td>1182862</td>\n",
       "      <td>1182863</td>\n",
       "      <td>how to bind two input to a function</td>\n",
       "      <td>&lt;p&gt;As seen below script:- function is run when...</td>\n",
       "      <td>javascript jquery jquery-selectors</td>\n",
       "    </tr>\n",
       "    <tr>\n",
       "      <th>3</th>\n",
       "      <td>2172812</td>\n",
       "      <td>2172813</td>\n",
       "      <td>Split screen on Cocos2d</td>\n",
       "      <td>&lt;p&gt;I'm thinking of developing a game where two...</td>\n",
       "      <td>objective-c ios cocos2d-iphone</td>\n",
       "    </tr>\n",
       "    <tr>\n",
       "      <th>4</th>\n",
       "      <td>1956502</td>\n",
       "      <td>1956503</td>\n",
       "      <td>How to get element at specified indexfrom c++ ...</td>\n",
       "      <td>&lt;p&gt;I have a &lt;code&gt;list&lt;/code&gt;:&lt;/p&gt;\\n\\n&lt;pre&gt;&lt;co...</td>\n",
       "      <td>c++ list get</td>\n",
       "    </tr>\n",
       "  </tbody>\n",
       "</table>\n",
       "</div>"
      ],
      "text/plain": [
       "   Unnamed: 0       Id                                              Title  \\\n",
       "0     1655767  1655768  Wordpress plugin for Frontend Content Entry form?   \n",
       "1     2641299  2641300                         HTML: Nesting DIVs problem   \n",
       "2     1182862  1182863                how to bind two input to a function   \n",
       "3     2172812  2172813                            Split screen on Cocos2d   \n",
       "4     1956502  1956503  How to get element at specified indexfrom c++ ...   \n",
       "\n",
       "                                                Body  \\\n",
       "0  <p>Is there a wordpress plugin for content ent...   \n",
       "1  <p>I am coding a form generator. So far, so go...   \n",
       "2  <p>As seen below script:- function is run when...   \n",
       "3  <p>I'm thinking of developing a game where two...   \n",
       "4  <p>I have a <code>list</code>:</p>\\n\\n<pre><co...   \n",
       "\n",
       "                                 Tags  \n",
       "0          wordpress wordpress-plugin  \n",
       "1                                html  \n",
       "2  javascript jquery jquery-selectors  \n",
       "3      objective-c ios cocos2d-iphone  \n",
       "4                        c++ list get  "
      ]
     },
     "execution_count": 2,
     "metadata": {},
     "output_type": "execute_result"
    }
   ],
   "source": [
    "%%time\n",
    "## sample_500k is a sample from main dataset \n",
    "row_data = pd.read_csv(\"sample_500k.csv\")\n",
    "row_data.head()"
   ]
  },
  {
   "cell_type": "code",
   "execution_count": 3,
   "metadata": {},
   "outputs": [],
   "source": [
    "sample_data = row_data.sample(100000)"
   ]
  },
  {
   "cell_type": "code",
   "execution_count": 6,
   "metadata": {
    "colab": {
     "base_uri": "https://localhost:8080/"
    },
    "executionInfo": {
     "elapsed": 30861,
     "status": "ok",
     "timestamp": 1621579388499,
     "user": {
      "displayName": "pushpendra kumar",
      "photoUrl": "https://lh3.googleusercontent.com/a-/AOh14Ghqm6HPzzOFq3Niakh06UJCnrcKRlq4HcPeDBA3pw=s64",
      "userId": "17600318437856404893"
     },
     "user_tz": -330
    },
    "id": "HdVA4JDYgeT1",
    "outputId": "ef29356c-9172-4667-d5b5-40034d22c06a"
   },
   "outputs": [],
   "source": [
    "# To drop duplicate rows based on title, body, and tags\n",
    "sample_data = sample_data.drop_duplicates(['Title', 'Body', 'Tags'])"
   ]
  },
  {
   "cell_type": "code",
   "execution_count": 7,
   "metadata": {
    "id": "37Tsw11DjD-W"
   },
   "outputs": [],
   "source": [
    "stop_words = {'i', 'me', 'my', 'myself', 'we', 'our', 'ours', 'ourselves', 'you', \"you're\", \"you've\", \"you'll\", \"you'd\", 'your', 'yours', 'yourself', 'yourselves', 'he', 'him', 'his', 'himself', 'she', \"she's\", 'her', 'hers', 'herself', 'it', \"it's\", 'its', 'itself', 'they', 'them', 'their', 'theirs', 'themselves', 'what', 'which', 'who', 'whom', 'this', 'that', \"that'll\", 'these', 'those', 'am', 'is', 'are', 'was', 'were', 'be', 'been', 'being', 'have', 'has', 'had', 'having', 'do', 'does', 'did', 'doing', 'a', 'an', 'the', 'and', 'but', 'if', 'or', 'because', 'as', 'until', 'while', 'of', 'at', 'by', 'for', 'with', 'about', 'against', 'between', 'into', 'through', 'during', 'before', 'after', 'above', 'below', 'to', 'from', 'up', 'down', 'in', 'out', 'on', 'off', 'over', 'under', 'again', 'further', 'then', 'once', 'here', 'there', 'when', 'where', 'why', 'how', 'all', 'any', 'both', 'each', 'few', 'more', 'most', 'other', 'some', 'such', 'no', 'nor', 'not', 'only', 'own', 'same', 'so', 'than', 'too', 'very', 's', 't', 'can', 'will', 'just', 'don', \"don't\", 'should', \"should've\", 'now', 'd', 'll', 'm', 'o', 're', 've', 'y', 'ain', 'aren', \"aren't\", 'couldn', \"couldn't\", 'didn', \"didn't\", 'doesn', \"doesn't\", 'hadn', \"hadn't\", 'hasn', \"hasn't\", 'haven', \"haven't\", 'isn', \"isn't\", 'ma', 'mightn', \"mightn't\", 'mustn', \"mustn't\", 'needn', \"needn't\", 'shan', \"shan't\", 'shouldn', \"shouldn't\", 'wasn', \"wasn't\", 'weren', \"weren't\", 'won', \"won't\", 'wouldn', \"wouldn't\"}"
   ]
  },
  {
   "cell_type": "code",
   "execution_count": 8,
   "metadata": {
    "colab": {
     "base_uri": "https://localhost:8080/"
    },
    "executionInfo": {
     "elapsed": 555,
     "status": "ok",
     "timestamp": 1621579389711,
     "user": {
      "displayName": "pushpendra kumar",
      "photoUrl": "https://lh3.googleusercontent.com/a-/AOh14Ghqm6HPzzOFq3Niakh06UJCnrcKRlq4HcPeDBA3pw=s64",
      "userId": "17600318437856404893"
     },
     "user_tz": -330
    },
    "id": "4qv52nemjm6O",
    "outputId": "26e01267-8058-4769-a29b-425ff01ac530"
   },
   "outputs": [
    {
     "name": "stderr",
     "output_type": "stream",
     "text": [
      "[nltk_data] Downloading package punkt to C:\\Users\\Anuj\n",
      "[nltk_data]     Kumar\\AppData\\Roaming\\nltk_data...\n",
      "[nltk_data]   Package punkt is already up-to-date!\n"
     ]
    },
    {
     "data": {
      "text/plain": [
       "True"
      ]
     },
     "execution_count": 8,
     "metadata": {},
     "output_type": "execute_result"
    }
   ],
   "source": [
    "import nltk\n",
    "nltk.download('punkt')"
   ]
  },
  {
   "cell_type": "code",
   "execution_count": 9,
   "metadata": {
    "id": "cGexZqNHejxd"
   },
   "outputs": [],
   "source": [
    "def text_preprocess(sample_data):\n",
    "    preprocessed_data_list=[]\n",
    "    questions_with_code=0\n",
    "    len_before=0\n",
    "    len_after=0\n",
    "    counter=0\n",
    "    preprocess_data = pd.DataFrame(columns=['question','code','tags','word_count_before','word_count_after','is_code'])\n",
    "    # Stopwords are {\"the\",\"a\",\"also\",etc} they did not contribute any thing then we will delete them\n",
    "    #stop_words = set(stopwords.words('english'))\n",
    "\n",
    "    # Stemmer is converting like: eating --> eat or running --> run\n",
    "    stemmer = SnowballStemmer(\"english\")\n",
    "    \n",
    "    for row in tqdm(sample_data.iterrows()):\n",
    "        \n",
    "        # Extract title and repeat it 3 times, question, and tags from each row\n",
    "        title, question, tags = 3*(' '+row[1][2]), row[1][3], row[1][4]\n",
    "        \n",
    "        code_flag = 0\n",
    "        \n",
    "        # Check if there is any code in the question then make code flag 1\n",
    "        # Increase question  with code count to see how many question we have with code\n",
    "        if '<code>' in question:\n",
    "            questions_with_code += 1\n",
    "            code_flag = 1\n",
    "            \n",
    "        # Add title and question length to see how much we have changed it\n",
    "        question_before_length = len(question)+len(title)\n",
    "        len_before += question_before_length\n",
    "        \n",
    "        # To extract all code from <code></code> tags and convert it into string\n",
    "        code = str(re.findall(r'<code>(.*?)</code>', question, flags=re.DOTALL))\n",
    "        \n",
    "        # To replace <code>...</code> with space \" \"\n",
    "        question=re.sub('<code>(.*?)</code>', '', question, flags=re.MULTILINE|re.DOTALL)\n",
    "        \n",
    "        # To remove all HTML tags from questions\n",
    "        html_cleaner = re.compile('<.*?>')\n",
    "        question = re.sub(html_cleaner, ' ', str(question.encode(\"utf-8\")))\n",
    "        \n",
    "        title=title.encode('utf-8')\n",
    "        \n",
    "        # Concatinate title and question\n",
    "        question=str(title)+\" \"+str(question)\n",
    "        \n",
    "        # To remove all characters instead of alphabets\n",
    "        question=re.sub(r'[^A-Za-z]+',' ',question)\n",
    "        \n",
    "        # First, we convert all text to lowercase and Word tokenize will convert \n",
    "        # \"This is data preprocessing\" --> [\"This\",\"is\",\"data\",\"preprocessing\"]\n",
    "        words=word_tokenize(str(question.lower()))\n",
    "        \n",
    "        # Removing all single letter and stopwords from question except letter 'c' because c is a prog. language\n",
    "        # After removing all single words join then with space\n",
    "        question= ' '.join(str(stemmer.stem(j)) for j in words if j not in stop_words and (len(j)!=1 or j=='c'))\n",
    "        \n",
    "        len_after += len(question)\n",
    "        \n",
    "        # Append new datapoint to the dataframe\n",
    "        preprocess_data.loc[len(preprocess_data.index)] = [question,code,tags,question_before_length,len(question),code_flag]\n",
    "        counter += 1 \n",
    "        \n",
    "        # END OF THE FOR LOOP\n",
    "    \n",
    "    # To print some insights \n",
    "    print( \"Avg. length of questions(Title+Body) before processing: \",(len_before*1.0)/counter)\n",
    "    print( \"Avg. length of questions(Title+Body) after processing: \",(len_after*1.0)/counter)\n",
    "    print (\"Percent of questions containing code: %d\"%((questions_with_code*100.0)/counter)) \n",
    "    return preprocess_data"
   ]
  },
  {
   "cell_type": "code",
   "execution_count": 12,
   "metadata": {
    "colab": {
     "base_uri": "https://localhost:8080/",
     "height": 392
    },
    "executionInfo": {
     "elapsed": 305798,
     "status": "error",
     "timestamp": 1621579695503,
     "user": {
      "displayName": "pushpendra kumar",
      "photoUrl": "https://lh3.googleusercontent.com/a-/AOh14Ghqm6HPzzOFq3Niakh06UJCnrcKRlq4HcPeDBA3pw=s64",
      "userId": "17600318437856404893"
     },
     "user_tz": -330
    },
    "id": "o-nMYAu5eku7",
    "outputId": "e036dbb5-bbc8-4b03-c1e5-f80790b33f8e"
   },
   "outputs": [
    {
     "name": "stderr",
     "output_type": "stream",
     "text": [
      "100000it [50:29, 33.01it/s]\n"
     ]
    },
    {
     "name": "stdout",
     "output_type": "stream",
     "text": [
      "Avg. length of questions(Title+Body) before processing:  1275.87717\n",
      "Avg. length of questions(Title+Body) after processing:  397.72834\n",
      "Percent of questions containing code: 57\n",
      "Time it takes to run this : 3031.0659816265106\n"
     ]
    }
   ],
   "source": [
    "start = time.time()\n",
    "preprocess_data = text_preprocess(sample_data)\n",
    "preprocess_data.to_csv(\"preprocessed_3title_100k.csv\")\n",
    "print(\"Time it takes to run this :\",time.time()-start)"
   ]
  },
  {
   "cell_type": "code",
   "execution_count": 59,
   "metadata": {},
   "outputs": [
    {
     "data": {
      "text/html": [
       "<div>\n",
       "<style scoped>\n",
       "    .dataframe tbody tr th:only-of-type {\n",
       "        vertical-align: middle;\n",
       "    }\n",
       "\n",
       "    .dataframe tbody tr th {\n",
       "        vertical-align: top;\n",
       "    }\n",
       "\n",
       "    .dataframe thead th {\n",
       "        text-align: right;\n",
       "    }\n",
       "</style>\n",
       "<table border=\"1\" class=\"dataframe\">\n",
       "  <thead>\n",
       "    <tr style=\"text-align: right;\">\n",
       "      <th></th>\n",
       "      <th>question</th>\n",
       "      <th>code</th>\n",
       "      <th>tags</th>\n",
       "      <th>word_count_before</th>\n",
       "      <th>word_count_after</th>\n",
       "      <th>is_code</th>\n",
       "    </tr>\n",
       "  </thead>\n",
       "  <tbody>\n",
       "    <tr>\n",
       "      <th>0</th>\n",
       "      <td>gvim window path issu gvim window path issu gv...</td>\n",
       "      <td>['\\\\...\\\\gvim\\\\vim73\\n', '\\\\...\\\\gvim\\n', 'vim...</td>\n",
       "      <td>windows-7 windows-xp vim gvim</td>\n",
       "      <td>749</td>\n",
       "      <td>341</td>\n",
       "      <td>1</td>\n",
       "    </tr>\n",
       "    <tr>\n",
       "      <th>1</th>\n",
       "      <td>pass quotient via quotient map preserv topolog...</td>\n",
       "      <td>[]</td>\n",
       "      <td>general-topology</td>\n",
       "      <td>701</td>\n",
       "      <td>446</td>\n",
       "      <td>0</td>\n",
       "    </tr>\n",
       "  </tbody>\n",
       "</table>\n",
       "</div>"
      ],
      "text/plain": [
       "                                            question  \\\n",
       "0  gvim window path issu gvim window path issu gv...   \n",
       "1  pass quotient via quotient map preserv topolog...   \n",
       "\n",
       "                                                code  \\\n",
       "0  ['\\\\...\\\\gvim\\\\vim73\\n', '\\\\...\\\\gvim\\n', 'vim...   \n",
       "1                                                 []   \n",
       "\n",
       "                            tags word_count_before word_count_after is_code  \n",
       "0  windows-7 windows-xp vim gvim               749              341       1  \n",
       "1               general-topology               701              446       0  "
      ]
     },
     "execution_count": 59,
     "metadata": {},
     "output_type": "execute_result"
    }
   ],
   "source": [
    "preprocess_data.head(2)"
   ]
  },
  {
   "cell_type": "code",
   "execution_count": null,
   "metadata": {},
   "outputs": [],
   "source": [
    "def text_splitter(text):\n",
    "    return text.split()"
   ]
  },
  {
   "cell_type": "code",
   "execution_count": 15,
   "metadata": {
    "id": "MLFw7J_3iL8O"
   },
   "outputs": [],
   "source": [
    "# binary='true' will give a binary vectorizer\n",
    "tag_vectorizer = CountVectorizer(tokenizer = text_splitter, binary=True)\n",
    "multi_label_y = tag_vectorizer.fit_transform(preprocess_data['tags'].values.astype(str))"
   ]
  },
  {
   "cell_type": "code",
   "execution_count": 16,
   "metadata": {
    "id": "2IW1JYtqoWBb"
   },
   "outputs": [],
   "source": [
    "# make sum column wise\n",
    "tag_column_sum = multi_label_y.sum(axis=0).tolist()[0]"
   ]
  },
  {
   "cell_type": "code",
   "execution_count": 17,
   "metadata": {
    "id": "rhuLuJ-cojFF"
   },
   "outputs": [],
   "source": [
    "# To select n number of top tags\n",
    "def select_top_tags(n):\n",
    "    \n",
    "    # To get sotred list (means: tags appear in maximum number of questions come first)\n",
    "    # top 10: [3711, 15246, 22934, 15324, 1054, 15713, 3720, 24481, 14905, 1897]\n",
    "    sorted_tags = sorted(range(len(tag_column_sum)), key=lambda i: tag_column_sum[i], reverse=True)\n",
    "    \n",
    "    # With this line of code we get tags in our columns which are come in most of the questions\n",
    "    # we will get shape: (999999, n)\n",
    "    multi_label_n_y = multi_label_y[:,sorted_tags[:n]]\n",
    "    return multi_label_n_y\n",
    "# \n",
    "def questions_covered_fn(n):\n",
    "    multi_label_n_y = select_top_tags(n)\n",
    "    \n",
    "    # This line will give us row wise sum of each row  [[1, 2],           [[3],\n",
    "    #                                                   [4, 3]]     to     [7]]\n",
    "    row_sum_array = multi_label_n_y.sum(axis=1)\n",
    "\n",
    "    # Counts the number of non-zero values in the array\n",
    "    return (np.count_nonzero(row_sum_array==0))"
   ]
  },
  {
   "cell_type": "code",
   "execution_count": 18,
   "metadata": {},
   "outputs": [],
   "source": [
    "# With this code we checking how much percent questions are explained by how many tags\n",
    "# Here we are starting from 500 because we think top 500 are most important tags we can't skip them\n",
    "questions_covered=[]\n",
    "total_tags=multi_label_y.shape[1]\n",
    "total_qs=preprocess_data.shape[0]\n",
    "for i in range(500, total_tags, 100):\n",
    "    questions_covered.append(np.round(((total_qs-questions_covered_fn(i))/total_qs)*100,3))"
   ]
  },
  {
   "cell_type": "code",
   "execution_count": 57,
   "metadata": {},
   "outputs": [
    {
     "data": {
      "image/png": "[encoded data removed]",
      "text/plain": [
       "<Figure size 432x288 with 1 Axes>"
      ]
     },
     "metadata": {
      "needs_background": "light"
     },
     "output_type": "display_data"
    },
    {
     "name": "stdout",
     "output_type": "stream",
     "text": [
      "with  5500 tags we are covering  99.104 % of questions\n"
     ]
    }
   ],
   "source": [
    "fig, ax = plt.subplots()\n",
    "ax.plot(questions_covered)\n",
    "xlabel = list(500+np.array(range(-50,450,50))*50)\n",
    "ax.set_xticklabels(xlabel)\n",
    "plt.xlabel(\"Number of tags\")\n",
    "plt.ylabel(\"Percentage of Questions coverd partially\")\n",
    "plt.grid()\n",
    "plt.show()\n",
    "# you can choose any number of tags based on your computing power, minimun is 50(it covers 90% of the tags)\n",
    "print(\"with \",5500,\"tags we are covering \",questions_covered[50],\"% of questions\")"
   ]
  },
  {
   "cell_type": "code",
   "execution_count": 19,
   "metadata": {},
   "outputs": [
    {
     "name": "stdout",
     "output_type": "stream",
     "text": [
      "number of questions that are not covered : 896 out of  100000\n"
     ]
    }
   ],
   "source": [
    "multi_label_n_y = select_top_tags(500)\n",
    "print(\"number of questions that are not covered :\", questions_covered_fn(5500),\"out of \", total_qs)"
   ]
  },
  {
   "cell_type": "code",
   "execution_count": 20,
   "metadata": {},
   "outputs": [
    {
     "name": "stdout",
     "output_type": "stream",
     "text": [
      "Number of tags in sample : 18646\n",
      "number of tags taken : 500 --> 2.7 %\n"
     ]
    }
   ],
   "source": [
    "print(\"Number of tags in sample :\", multi_label_y.shape[1])\n",
    "print(\"number of tags taken :\", multi_label_n_y.shape[1],\"-->\",round((multi_label_n_y.shape[1]/multi_label_y.shape[1]),3)*100,\"%\")"
   ]
  },
  {
   "cell_type": "code",
   "execution_count": 21,
   "metadata": {},
   "outputs": [],
   "source": [
    "total_size=preprocess_data.shape[0]\n",
    "train_size=int(0.80*total_size)\n",
    "\n",
    "x_train=preprocess_data.head(train_size)\n",
    "x_test=preprocess_data.tail(total_size - train_size)\n",
    "\n",
    "y_train = multi_label_n_y[0:train_size,:]\n",
    "y_test = multi_label_n_y[train_size:total_size,:]"
   ]
  },
  {
   "cell_type": "code",
   "execution_count": 22,
   "metadata": {},
   "outputs": [],
   "source": [
    "def text_splitter(text):\n",
    "    return text.split()"
   ]
  },
  {
   "cell_type": "code",
   "execution_count": 25,
   "metadata": {},
   "outputs": [],
   "source": [
    "# To get new features with tfidf technique get 200000 features with upto 3-grams\n",
    "vectorizer = TfidfVectorizer(min_df=0.00009, max_features=200000, smooth_idf=True, norm=\"l2\", tokenizer = text_splitter, sublinear_tf=False, ngram_range=(1,3))\n",
    "# Apply this vectorizer only on question data column\n",
    "x_train_multi_label = vectorizer.fit_transform(x_train['question'])\n",
    "x_test_multi_label = vectorizer.transform(x_test['question'])"
   ]
  },
  {
   "cell_type": "code",
   "execution_count": 26,
   "metadata": {},
   "outputs": [
    {
     "name": "stdout",
     "output_type": "stream",
     "text": [
      "Dimensions of train data X: (80000, 91388) Y : (80000, 500)\n",
      "Dimensions of test data X: (20000, 91388) Y: (20000, 500)\n"
     ]
    }
   ],
   "source": [
    "# Now check data shapes after featurization\n",
    "print(\"Dimensions of train data X:\",x_train_multi_label.shape, \"Y :\",y_train.shape)\n",
    "print(\"Dimensions of test data X:\",x_test_multi_label.shape,\"Y:\",y_test.shape)"
   ]
  },
  {
   "cell_type": "code",
   "execution_count": 27,
   "metadata": {},
   "outputs": [
    {
     "data": {
      "text/plain": [
       "['stackoverflow_tfidf_vectorizer_3title_500k.pkl']"
      ]
     },
     "execution_count": 27,
     "metadata": {},
     "output_type": "execute_result"
    }
   ],
   "source": [
    "from joblib import dump\n",
    "dump(vectorizer, 'stackoverflow_tfidf_vectorizer_3title_500k.pkl')"
   ]
  },
  {
   "cell_type": "code",
   "execution_count": 31,
   "metadata": {},
   "outputs": [],
   "source": [
    "classifier = OneVsRestClassifier(SGDClassifier(loss='log', alpha=0.00001, penalty='l1'), n_jobs=-1)"
   ]
  },
  {
   "cell_type": "code",
   "execution_count": 32,
   "metadata": {},
   "outputs": [
    {
     "name": "stdout",
     "output_type": "stream",
     "text": [
      "Time it takes to run this : 136.64412236213684\n"
     ]
    }
   ],
   "source": [
    "start = time.time()\n",
    "classifier.fit(x_train_multi_label, y_train)\n",
    "print(\"Time it takes to run this :\",time.time()-start)"
   ]
  },
  {
   "cell_type": "code",
   "execution_count": 33,
   "metadata": {},
   "outputs": [
    {
     "data": {
      "text/plain": [
       "['stackoverflow_model_3title_100k.pkl']"
      ]
     },
     "execution_count": 33,
     "metadata": {},
     "output_type": "execute_result"
    }
   ],
   "source": [
    "dump(classifier, 'stackoverflow_model_3title_100k.pkl')"
   ]
  },
  {
   "cell_type": "code",
   "execution_count": 35,
   "metadata": {},
   "outputs": [
    {
     "name": "stdout",
     "output_type": "stream",
     "text": [
      "accuracy : 0.2299\n",
      "macro f1 score : 0.34202962409383375\n",
      "micro f1 scoore : 0.47561827067945467\n",
      "hamming loss : 0.002854\n"
     ]
    }
   ],
   "source": [
    "predictions = classifier.predict(x_test_multi_label)\n",
    "print(\"accuracy :\",metrics.accuracy_score(y_test,predictions))\n",
    "print(\"macro f1 score :\",metrics.f1_score(y_test, predictions, average = 'macro'))\n",
    "print(\"micro f1 scoore :\",metrics.f1_score(y_test, predictions, average = 'micro'))\n",
    "print(\"hamming loss :\",metrics.hamming_loss(y_test,predictions))"
   ]
  },
  {
   "cell_type": "code",
   "execution_count": 38,
   "metadata": {},
   "outputs": [],
   "source": [
    "report = metrics.classification_report(y_test, predictions, output_dict=True)\n",
    "report_df = pd.DataFrame(report).transpose()"
   ]
  },
  {
   "cell_type": "code",
   "execution_count": 56,
   "metadata": {},
   "outputs": [
    {
     "data": {
      "text/html": [
       "<div>\n",
       "<style scoped>\n",
       "    .dataframe tbody tr th:only-of-type {\n",
       "        vertical-align: middle;\n",
       "    }\n",
       "\n",
       "    .dataframe tbody tr th {\n",
       "        vertical-align: top;\n",
       "    }\n",
       "\n",
       "    .dataframe thead th {\n",
       "        text-align: right;\n",
       "    }\n",
       "</style>\n",
       "<table border=\"1\" class=\"dataframe\">\n",
       "  <thead>\n",
       "    <tr style=\"text-align: right;\">\n",
       "      <th></th>\n",
       "      <th>precision</th>\n",
       "      <th>recall</th>\n",
       "      <th>f1-score</th>\n",
       "      <th>support</th>\n",
       "    </tr>\n",
       "  </thead>\n",
       "  <tbody>\n",
       "    <tr>\n",
       "      <th>0</th>\n",
       "      <td>0.623762</td>\n",
       "      <td>0.286550</td>\n",
       "      <td>0.392698</td>\n",
       "      <td>1539.0</td>\n",
       "    </tr>\n",
       "    <tr>\n",
       "      <th>1</th>\n",
       "      <td>0.811392</td>\n",
       "      <td>0.469597</td>\n",
       "      <td>0.594896</td>\n",
       "      <td>1365.0</td>\n",
       "    </tr>\n",
       "    <tr>\n",
       "      <th>2</th>\n",
       "      <td>0.846517</td>\n",
       "      <td>0.531111</td>\n",
       "      <td>0.652708</td>\n",
       "      <td>1350.0</td>\n",
       "    </tr>\n",
       "    <tr>\n",
       "      <th>3</th>\n",
       "      <td>0.777018</td>\n",
       "      <td>0.439628</td>\n",
       "      <td>0.561542</td>\n",
       "      <td>1292.0</td>\n",
       "    </tr>\n",
       "    <tr>\n",
       "      <th>4</th>\n",
       "      <td>0.948052</td>\n",
       "      <td>0.778667</td>\n",
       "      <td>0.855051</td>\n",
       "      <td>1125.0</td>\n",
       "    </tr>\n",
       "  </tbody>\n",
       "</table>\n",
       "</div>"
      ],
      "text/plain": [
       "   precision    recall  f1-score  support\n",
       "0   0.623762  0.286550  0.392698   1539.0\n",
       "1   0.811392  0.469597  0.594896   1365.0\n",
       "2   0.846517  0.531111  0.652708   1350.0\n",
       "3   0.777018  0.439628  0.561542   1292.0\n",
       "4   0.948052  0.778667  0.855051   1125.0"
      ]
     },
     "execution_count": 56,
     "metadata": {},
     "output_type": "execute_result"
    }
   ],
   "source": [
    "report_df.head()"
   ]
  },
  {
   "cell_type": "code",
   "execution_count": 55,
   "metadata": {},
   "outputs": [],
   "source": [
    "report_df.to_csv(\"report_3title_100k.csv\")"
   ]
  },
  {
   "cell_type": "markdown",
   "metadata": {},
   "source": [
    "# Now we are done with the model which has 3 times weight for title and 100k points with only 500 tags which covers 90% questions.\n",
    "Let see other model in comparisoon with this."
   ]
  }
 ],
 "metadata": {
  "accelerator": "GPU",
  "colab": {
   "authorship_tag": "ABX9TyP3hv+5cr824QIqIlN1APMD",
   "collapsed_sections": [],
   "mount_file_id": "1UEo-tUSHXaf9ALXJogZRjbh5NfpighUl",
   "name": "model_with_3xtitle_500tags_500k.ipynb",
   "provenance": []
  },
  "kernelspec": {
   "display_name": "Python 3",
   "language": "python",
   "name": "python3"
  },
  "language_info": {
   "codemirror_mode": {
    "name": "ipython",
    "version": 3
   },
   "file_extension": ".py",
   "mimetype": "text/x-python",
   "name": "python",
   "nbconvert_exporter": "python",
   "pygments_lexer": "ipython3",
   "version": "3.8.5"
  }
 },
 "nbformat": 4,
 "nbformat_minor": 1
}
