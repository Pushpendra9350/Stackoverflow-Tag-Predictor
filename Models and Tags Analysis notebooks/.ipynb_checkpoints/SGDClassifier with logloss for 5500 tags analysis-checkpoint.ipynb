{
 "cells": [
  {
   "cell_type": "markdown",
   "metadata": {},
   "source": [
    "# SGD Classifier with logloss for 5500 tag analysis"
   ]
  },
  {
   "cell_type": "code",
   "execution_count": 1,
   "metadata": {},
   "outputs": [],
   "source": [
    "import pandas as pd\n",
    "import numpy as np\n",
    "import re\n",
    "from tqdm import tqdm\n",
    "import warnings\n",
    "warnings.filterwarnings(\"ignore\")\n",
    "import matplotlib.pyplot as plt\n",
    "import seaborn as sns\n",
    "from sklearn.feature_extraction.text import CountVectorizer\n",
    "from sklearn.feature_extraction.text import TfidfVectorizer\n",
    "from wordcloud import WordCloud\n",
    "from nltk.corpus import stopwords\n",
    "from nltk.tokenize import word_tokenize\n",
    "from nltk.stem.snowball import SnowballStemmer\n",
    "from sklearn.model_selection import train_test_split\n",
    "from sklearn.multiclass import OneVsRestClassifier\n",
    "from sklearn.linear_model import SGDClassifier\n",
    "from sklearn.linear_model import LogisticRegression\n",
    "from sklearn import metrics\n",
    "from sklearn.metrics import f1_score,precision_score,recall_score"
   ]
  },
  {
   "cell_type": "code",
   "execution_count": 3,
   "metadata": {},
   "outputs": [],
   "source": [
    "# This preprocessed_sample_1M.csv is a file preprocessed data csv file with 1 Million datapoints \n",
    "# To download this file https://drive.google.com/file/d/1DaahRX7jEF6YBSf9_hX5ThbHiOeobwm2/view?usp=sharing\n",
    "main_data = pd.read_csv(\"preprocessed_sample_1M.csv\")"
   ]
  },
  {
   "cell_type": "code",
   "execution_count": 5,
   "metadata": {},
   "outputs": [],
   "source": [
    "preprocess_data = main_data.sample(100000)"
   ]
  },
  {
   "cell_type": "code",
   "execution_count": 8,
   "metadata": {},
   "outputs": [],
   "source": [
    "def text_splitter(text):\n",
    "    return text.split()"
   ]
  },
  {
   "cell_type": "markdown",
   "metadata": {},
   "source": [
    "### Covert tags for Multi-label Classification"
   ]
  },
  {
   "cell_type": "code",
   "execution_count": 9,
   "metadata": {},
   "outputs": [],
   "source": [
    "# binary='true' will give a binary vectorizer\n",
    "tag_vectorizer = CountVectorizer(tokenizer = text_splitter, binary=True)\n",
    "multi_label_y = tag_vectorizer.fit_transform(preprocess_data['tags'].values.astype(str))\n"
   ]
  },
  {
   "cell_type": "markdown",
   "metadata": {},
   "source": [
    "Here y1, y2, y3, y4 we can consider as tags and x1, x2, x3 are as datapoints\n",
    "\n",
    "<table>\n",
    "<tr>\n",
    "<th>X</th><th>y1</th><th>y2</th><th>y3</th><th>y4</th>\n",
    "</tr>\n",
    "<tr>\n",
    "<td>x1</td><td>0</td><td>1</td><td>1</td><td>0</td>\n",
    "</tr>\n",
    "<tr>\n",
    "<td>x2</td><td>1</td><td>0</td><td>0</td><td>0</td>\n",
    "</tr>\n",
    "<tr>\n",
    "<td>x3</td><td>0</td><td>1</td><td>0</td><td>0</td>\n",
    "</tr>\n",
    "</table> "
   ]
  },
  {
   "cell_type": "code",
   "execution_count": 10,
   "metadata": {},
   "outputs": [],
   "source": [
    "# make sum column wise\n",
    "tag_column_sum = multi_label_y.sum(axis=0).tolist()[0]"
   ]
  },
  {
   "cell_type": "markdown",
   "metadata": {},
   "source": [
    "<br><br>From\n",
    "<table>\n",
    "<tr>\n",
    "<th>X</th><th>y1</th><th>y2</th><th>y3</th><th>y4</th>\n",
    "</tr>\n",
    "<tr>\n",
    "<td>x1</td><td>0</td><td>1</td><td>1</td><td>0</td>\n",
    "</tr>\n",
    "<tr>\n",
    "<td>x2</td><td>1</td><td>0</td><td>0</td><td>0</td>\n",
    "</tr>\n",
    "<tr>\n",
    "<td>x3</td><td>0</td><td>1</td><td>0</td><td>0</td>\n",
    "</tr>\n",
    "</table> \n",
    "To\n",
    "<table>\n",
    "<tr>\n",
    "<th></th><th>y1</th><th>y2</th><th>y3</th><th>y4</th>\n",
    "</tr>\n",
    "<tr>\n",
    "<td>tag_column_sum</td><td>1</td><td>2</td><td>1</td><td>0</td>\n",
    "</tr>\n",
    "</table>\n",
    "As we can see in the above diagram:<br>\n",
    "we get tag_column_sum after column wise sum of the vectors we made with the help of countvectorizer for tags in last cell"
   ]
  },
  {
   "cell_type": "code",
   "execution_count": 11,
   "metadata": {},
   "outputs": [],
   "source": [
    "# To select n number of top tags\n",
    "def select_top_tags(n):\n",
    "    \n",
    "    # To get sotred list (means: tags appear in maximum number of questions come first)\n",
    "    # top 10: [3711, 15246, 22934, 15324, 1054, 15713, 3720, 24481, 14905, 1897]\n",
    "    sorted_tags = sorted(range(len(tag_column_sum)), key=lambda i: tag_column_sum[i], reverse=True)\n",
    "    \n",
    "    # With this line of code we get tags in our columns which are come in most of the questions\n",
    "    # we will get shape: (999999, n)\n",
    "    multi_label_n_y = multi_label_y[:,sorted_tags[:n]]\n",
    "    return multi_label_n_y\n",
    "# \n",
    "def questions_covered_fn(n):\n",
    "    multi_label_n_y = select_top_tags(n)\n",
    "    \n",
    "    # This line will give us row wise sum of each row  [[1, 2],           [[3],\n",
    "    #                                                   [4, 3]]     to     [7]]\n",
    "    row_sum_array = multi_label_n_y.sum(axis=1)\n",
    "\n",
    "    # Counts the number of non-zero values in the array\n",
    "    return (np.count_nonzero(row_sum_array==0))\n",
    "# With this code we checking how much percent questions are explained by how many tags\n",
    "# Here we are starting from 500 because we think top 500 are most important tags we can't skip them\n",
    "questions_covered=[]\n",
    "total_tags=multi_label_y.shape[1]\n",
    "total_qs=preprocess_data.shape[0]\n",
    "for i in range(500, total_tags, 100):\n",
    "    questions_covered.append(np.round(((total_qs-questions_covered_fn(i))/total_qs)*100,3))"
   ]
  },
  {
   "cell_type": "code",
   "execution_count": 12,
   "metadata": {},
   "outputs": [
    {
     "data": {
      "image/png": "[encoded data removed]",
      "text/plain": [
       "<Figure size 432x288 with 1 Axes>"
      ]
     },
     "metadata": {
      "needs_background": "light"
     },
     "output_type": "display_data"
    },
    {
     "name": "stdout",
     "output_type": "stream",
     "text": [
      "with  5500 tags we are covering  99.096 % of questions\n"
     ]
    }
   ],
   "source": [
    "fig, ax = plt.subplots()\n",
    "ax.plot(questions_covered)\n",
    "xlabel = list(500+np.array(range(-50,450,50))*50)\n",
    "ax.set_xticklabels(xlabel)\n",
    "plt.xlabel(\"Number of tags\")\n",
    "plt.ylabel(\"Percentage of Questions coverd partially\")\n",
    "plt.grid()\n",
    "plt.show()\n",
    "# you can choose any number of tags based on your computing power, minimun is 50(it covers 90% of the tags)\n",
    "print(\"with \",5500,\"tags we are covering \",questions_covered[50],\"% of questions\")"
   ]
  },
  {
   "cell_type": "code",
   "execution_count": 15,
   "metadata": {},
   "outputs": [
    {
     "name": "stdout",
     "output_type": "stream",
     "text": [
      "number of questions that are not covered : 904 out of  100000\n"
     ]
    }
   ],
   "source": [
    "multi_label_n_y = select_top_tags(5500)\n",
    "print(\"number of questions that are not covered :\", questions_covered_fn(5500),\"out of \", total_qs)"
   ]
  },
  {
   "cell_type": "code",
   "execution_count": 16,
   "metadata": {},
   "outputs": [
    {
     "name": "stdout",
     "output_type": "stream",
     "text": [
      "Number of tags in sample : 18464\n",
      "number of tags taken : 5500 --> 29.799999999999997 %\n"
     ]
    }
   ],
   "source": [
    "print(\"Number of tags in sample :\", multi_label_y.shape[1])\n",
    "print(\"number of tags taken :\", multi_label_n_y.shape[1],\"-->\",round((multi_label_n_y.shape[1]/multi_label_y.shape[1]),3)*100,\"%\")"
   ]
  },
  {
   "cell_type": "markdown",
   "metadata": {},
   "source": [
    "### Split the data into train-80% and test-20% "
   ]
  },
  {
   "cell_type": "code",
   "execution_count": 18,
   "metadata": {},
   "outputs": [],
   "source": [
    "total_size=preprocess_data.shape[0]\n",
    "train_size=int(0.80*total_size)\n",
    "\n",
    "x_train=preprocess_data.head(train_size)\n",
    "x_test=preprocess_data.tail(total_size - train_size)\n",
    "\n",
    "y_train = multi_label_n_y[0:train_size,:]\n",
    "y_test = multi_label_n_y[train_size:total_size,:]"
   ]
  },
  {
   "cell_type": "markdown",
   "metadata": {},
   "source": [
    "### Text data Featurization"
   ]
  },
  {
   "cell_type": "code",
   "execution_count": 19,
   "metadata": {},
   "outputs": [],
   "source": [
    "# To get new features with tfidf technique get 200000 features with upto 3-grams\n",
    "vectorizer = TfidfVectorizer(min_df=0.00009, max_features=200000, smooth_idf=True, norm=\"l2\", tokenizer = text_splitter, sublinear_tf=False, ngram_range=(1,3))\n",
    "# Apply this vectorizer only on question data column\n",
    "x_train_multi_label = vectorizer.fit_transform(x_train['question'])\n",
    "x_test_multi_label = vectorizer.transform(x_test['question'])"
   ]
  },
  {
   "cell_type": "code",
   "execution_count": 20,
   "metadata": {},
   "outputs": [
    {
     "name": "stdout",
     "output_type": "stream",
     "text": [
      "Dimensions of train data X: (80000, 89264) Y : (80000, 5500)\n",
      "Dimensions of test data X: (20000, 89264) Y: (20000, 5500)\n"
     ]
    }
   ],
   "source": [
    "# Now check data shapes after featurization\n",
    "print(\"Dimensions of train data X:\",x_train_multi_label.shape, \"Y :\",y_train.shape)\n",
    "print(\"Dimensions of test data X:\",x_test_multi_label.shape,\"Y:\",y_test.shape)"
   ]
  },
  {
   "cell_type": "code",
   "execution_count": 29,
   "metadata": {},
   "outputs": [
    {
     "data": {
      "text/plain": [
       "['stackoverflow_tfidf_vectorizer_with_5500tags_100k.pkl']"
      ]
     },
     "execution_count": 29,
     "metadata": {},
     "output_type": "execute_result"
    }
   ],
   "source": [
    "from joblib import dump\n",
    "dump(vectorizer, 'stackoverflow_tfidf_vectorizer_with_5500tags_100k.pkl')"
   ]
  },
  {
   "cell_type": "markdown",
   "metadata": {},
   "source": [
    "To download this vectorizer:"
   ]
  },
  {
   "cell_type": "markdown",
   "metadata": {},
   "source": [
    "### Logistic Regression with OneVsRest Classifier "
   ]
  },
  {
   "cell_type": "code",
   "execution_count": 22,
   "metadata": {},
   "outputs": [
    {
     "data": {
      "text/plain": [
       "OneVsRestClassifier(estimator=SGDClassifier(alpha=1e-05, loss='log',\n",
       "                                            penalty='l1'),\n",
       "                    n_jobs=-1)"
      ]
     },
     "execution_count": 22,
     "metadata": {},
     "output_type": "execute_result"
    }
   ],
   "source": [
    "classifier = OneVsRestClassifier(SGDClassifier(loss='log', alpha=0.00001, penalty='l1'), n_jobs=-1)\n",
    "classifier.fit(x_train_multi_label, y_train)"
   ]
  },
  {
   "cell_type": "code",
   "execution_count": 24,
   "metadata": {},
   "outputs": [
    {
     "data": {
      "text/plain": [
       "['stackoverflow_model_5500tags_100k.pkl']"
      ]
     },
     "execution_count": 24,
     "metadata": {},
     "output_type": "execute_result"
    }
   ],
   "source": [
    "dump(classifier, 'stackoverflow_model_5500tags_100k.pkl')"
   ]
  },
  {
   "cell_type": "code",
   "execution_count": 25,
   "metadata": {},
   "outputs": [
    {
     "name": "stdout",
     "output_type": "stream",
     "text": [
      "accuracy : 0.07925\n",
      "macro f1 score : 0.07641539797016503\n",
      "micro f1 scoore : 0.37110282893017754\n",
      "hamming loss : 0.0004157181818181818\n"
     ]
    }
   ],
   "source": [
    "predictions = classifier.predict(x_test_multi_label)\n",
    "print(\"accuracy :\",metrics.accuracy_score(y_test,predictions))\n",
    "print(\"macro f1 score :\",metrics.f1_score(y_test, predictions, average = 'macro'))\n",
    "print(\"micro f1 scoore :\",metrics.f1_score(y_test, predictions, average = 'micro'))\n",
    "print(\"hamming loss :\",metrics.hamming_loss(y_test,predictions))"
   ]
  },
  {
   "cell_type": "code",
   "execution_count": 26,
   "metadata": {},
   "outputs": [],
   "source": [
    "report = metrics.classification_report(y_test, predictions, output_dict=True)\n",
    "report_df = pd.DataFrame(report).transpose()"
   ]
  },
  {
   "cell_type": "code",
   "execution_count": 27,
   "metadata": {},
   "outputs": [
    {
     "data": {
      "text/html": [
       "<div>\n",
       "<style scoped>\n",
       "    .dataframe tbody tr th:only-of-type {\n",
       "        vertical-align: middle;\n",
       "    }\n",
       "\n",
       "    .dataframe tbody tr th {\n",
       "        vertical-align: top;\n",
       "    }\n",
       "\n",
       "    .dataframe thead th {\n",
       "        text-align: right;\n",
       "    }\n",
       "</style>\n",
       "<table border=\"1\" class=\"dataframe\">\n",
       "  <thead>\n",
       "    <tr style=\"text-align: right;\">\n",
       "      <th></th>\n",
       "      <th>precision</th>\n",
       "      <th>recall</th>\n",
       "      <th>f1-score</th>\n",
       "      <th>support</th>\n",
       "    </tr>\n",
       "  </thead>\n",
       "  <tbody>\n",
       "    <tr>\n",
       "      <th>0</th>\n",
       "      <td>0.632075</td>\n",
       "      <td>0.246173</td>\n",
       "      <td>0.354341</td>\n",
       "      <td>1633.0</td>\n",
       "    </tr>\n",
       "    <tr>\n",
       "      <th>1</th>\n",
       "      <td>0.777778</td>\n",
       "      <td>0.456317</td>\n",
       "      <td>0.575180</td>\n",
       "      <td>1488.0</td>\n",
       "    </tr>\n",
       "    <tr>\n",
       "      <th>2</th>\n",
       "      <td>0.832787</td>\n",
       "      <td>0.564444</td>\n",
       "      <td>0.672848</td>\n",
       "      <td>1350.0</td>\n",
       "    </tr>\n",
       "    <tr>\n",
       "      <th>3</th>\n",
       "      <td>0.760837</td>\n",
       "      <td>0.407526</td>\n",
       "      <td>0.530761</td>\n",
       "      <td>1249.0</td>\n",
       "    </tr>\n",
       "    <tr>\n",
       "      <th>4</th>\n",
       "      <td>0.937041</td>\n",
       "      <td>0.766524</td>\n",
       "      <td>0.843248</td>\n",
       "      <td>1165.0</td>\n",
       "    </tr>\n",
       "  </tbody>\n",
       "</table>\n",
       "</div>"
      ],
      "text/plain": [
       "   precision    recall  f1-score  support\n",
       "0   0.632075  0.246173  0.354341   1633.0\n",
       "1   0.777778  0.456317  0.575180   1488.0\n",
       "2   0.832787  0.564444  0.672848   1350.0\n",
       "3   0.760837  0.407526  0.530761   1249.0\n",
       "4   0.937041  0.766524  0.843248   1165.0"
      ]
     },
     "execution_count": 27,
     "metadata": {},
     "output_type": "execute_result"
    }
   ],
   "source": [
    "report_df.head()"
   ]
  },
  {
   "cell_type": "code",
   "execution_count": 28,
   "metadata": {},
   "outputs": [],
   "source": [
    "report_df.to_csv(\"report_5500tags_100k.csv\")"
   ]
  },
  {
   "cell_type": "markdown",
   "metadata": {},
   "source": [
    "# Now we are done with the model which has 100k points with 5500 tags which covers 99% questions.\n",
    "Let see other model in comparsion with this."
   ]
  }
 ],
 "metadata": {
  "kernelspec": {
   "display_name": "Python 3",
   "language": "python",
   "name": "python3"
  },
  "language_info": {
   "codemirror_mode": {
    "name": "ipython",
    "version": 3
   },
   "file_extension": ".py",
   "mimetype": "text/x-python",
   "name": "python",
   "nbconvert_exporter": "python",
   "pygments_lexer": "ipython3",
   "version": "3.8.5"
  }
 },
 "nbformat": 4,
 "nbformat_minor": 4
}
